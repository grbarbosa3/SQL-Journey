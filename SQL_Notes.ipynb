{
 "cells": [
  {
   "cell_type": "markdown",
   "id": "f32beb3b",
   "metadata": {},
   "source": [
    "# SQL Notes - FGV Course\n",
    "#### This notebook holds all the notes and exercises I took from the course.\n",
    "#### It's a public knowledge source and a personal learning journal."
   ]
  },
  {
   "cell_type": "code",
   "execution_count": 1,
   "id": "e7bf0f16",
   "metadata": {},
   "outputs": [
    {
     "name": "stdout",
     "output_type": "stream",
     "text": [
      "C:\\Users\\grbar\\OneDrive\\Área de Trabalho\\SQL_FGV\\rep\n"
     ]
    }
   ],
   "source": [
    "# Making sure that the notebook is running in the right directory\n",
    "\n",
    "import os\n",
    "os.chdir(r\"C:\\Users\\grbar\\OneDrive\\Área de Trabalho\\SQL_FGV\\rep\")\n",
    "print(os.getcwd())\n"
   ]
  },
  {
   "cell_type": "code",
   "execution_count": 2,
   "id": "e54320fd",
   "metadata": {},
   "outputs": [],
   "source": [
    "# Getting the data\n",
    "\n",
    "%reload_ext sql\n",
    "%sql sqlite:///data/curso_sql.db\n"
   ]
  },
  {
   "cell_type": "markdown",
   "id": "0379d4e9",
   "metadata": {},
   "source": [
    "#### **List of Tables**"
   ]
  },
  {
   "cell_type": "code",
   "execution_count": 3,
   "id": "85a2b981",
   "metadata": {},
   "outputs": [
    {
     "name": "stdout",
     "output_type": "stream",
     "text": [
      " * sqlite:///data/curso_sql.db\n",
      "Done.\n"
     ]
    },
    {
     "data": {
      "text/html": [
       "<table>\n",
       "    <thead>\n",
       "        <tr>\n",
       "            <th>name</th>\n",
       "        </tr>\n",
       "    </thead>\n",
       "    <tbody>\n",
       "        <tr>\n",
       "            <td>fertility</td>\n",
       "        </tr>\n",
       "        <tr>\n",
       "            <td>gdp_pc</td>\n",
       "        </tr>\n",
       "        <tr>\n",
       "            <td>avg_income</td>\n",
       "        </tr>\n",
       "        <tr>\n",
       "            <td>co2_emissions_pc</td>\n",
       "        </tr>\n",
       "        <tr>\n",
       "            <td>life_expectancy</td>\n",
       "        </tr>\n",
       "        <tr>\n",
       "            <td>child_mortality</td>\n",
       "        </tr>\n",
       "        <tr>\n",
       "            <td>population</td>\n",
       "        </tr>\n",
       "        <tr>\n",
       "            <td>petrobras</td>\n",
       "        </tr>\n",
       "        <tr>\n",
       "            <td>women_years_at_school</td>\n",
       "        </tr>\n",
       "        <tr>\n",
       "            <td>men_years_at_school</td>\n",
       "        </tr>\n",
       "        <tr>\n",
       "            <td>country</td>\n",
       "        </tr>\n",
       "    </tbody>\n",
       "</table>"
      ],
      "text/plain": [
       "[('fertility',),\n",
       " ('gdp_pc',),\n",
       " ('avg_income',),\n",
       " ('co2_emissions_pc',),\n",
       " ('life_expectancy',),\n",
       " ('child_mortality',),\n",
       " ('population',),\n",
       " ('petrobras',),\n",
       " ('women_years_at_school',),\n",
       " ('men_years_at_school',),\n",
       " ('country',)]"
      ]
     },
     "execution_count": 3,
     "metadata": {},
     "output_type": "execute_result"
    }
   ],
   "source": [
    "%%sql\n",
    "SELECT name \n",
    "FROM sqlite_master \n",
    "WHERE type='table';\n"
   ]
  },
  {
   "cell_type": "markdown",
   "id": "7d882810",
   "metadata": {},
   "source": [
    "## Working with **JOINS**"
   ]
  },
  {
   "cell_type": "markdown",
   "id": "ca092e92",
   "metadata": {},
   "source": [
    "#### Consulting **GDP, Child Mortality, Average Income, Births Rate, Life Expectancy and Population** in Brazil in the years of 1900, 1910, 1920, 1930, 1940, 1950, 1960, 1970, 1980, 1990, 2000, 2010, 2020."
   ]
  },
  {
   "cell_type": "markdown",
   "id": "a6349d00",
   "metadata": {},
   "source": [
    "##### My version using the table `country`, but we don't need it at this time, since another tables have 'country' column.."
   ]
  },
  {
   "cell_type": "code",
   "execution_count": 4,
   "id": "ae0dca7b",
   "metadata": {
    "vscode": {
     "languageId": "sql"
    }
   },
   "outputs": [
    {
     "name": "stdout",
     "output_type": "stream",
     "text": [
      " * sqlite:///data/curso_sql.db\n",
      "Done.\n"
     ]
    },
    {
     "data": {
      "text/html": [
       "<table>\n",
       "    <thead>\n",
       "        <tr>\n",
       "            <th>pais</th>\n",
       "            <th>ano</th>\n",
       "            <th>pib</th>\n",
       "            <th>mort_inf</th>\n",
       "            <th>renda_per_capita</th>\n",
       "            <th>populacao</th>\n",
       "            <th>nascimentos</th>\n",
       "            <th>expec_vida</th>\n",
       "        </tr>\n",
       "    </thead>\n",
       "    <tbody>\n",
       "        <tr>\n",
       "            <td>Brazil</td>\n",
       "            <td>1900</td>\n",
       "            <td>1.01</td>\n",
       "            <td>417</td>\n",
       "            <td>1250</td>\n",
       "            <td>18100000</td>\n",
       "            <td>5.88</td>\n",
       "            <td>31.1</td>\n",
       "        </tr>\n",
       "        <tr>\n",
       "            <td>Brazil</td>\n",
       "            <td>1910</td>\n",
       "            <td>1.14</td>\n",
       "            <td>410</td>\n",
       "            <td>1410</td>\n",
       "            <td>22400000</td>\n",
       "            <td>5.9</td>\n",
       "            <td>30.9</td>\n",
       "        </tr>\n",
       "        <tr>\n",
       "            <td>Brazil</td>\n",
       "            <td>1920</td>\n",
       "            <td>1.43</td>\n",
       "            <td>400</td>\n",
       "            <td>1770</td>\n",
       "            <td>27600000</td>\n",
       "            <td>5.9</td>\n",
       "            <td>30.8</td>\n",
       "        </tr>\n",
       "        <tr>\n",
       "            <td>Brazil</td>\n",
       "            <td>1930</td>\n",
       "            <td>1.56</td>\n",
       "            <td>391</td>\n",
       "            <td>1930</td>\n",
       "            <td>33800000</td>\n",
       "            <td>5.9</td>\n",
       "            <td>30.6</td>\n",
       "        </tr>\n",
       "        <tr>\n",
       "            <td>Brazil</td>\n",
       "            <td>1940</td>\n",
       "            <td>1.86</td>\n",
       "            <td>315</td>\n",
       "            <td>2300</td>\n",
       "            <td>41600000</td>\n",
       "            <td>5.9</td>\n",
       "            <td>34.8</td>\n",
       "        </tr>\n",
       "        <tr>\n",
       "            <td>Brazil</td>\n",
       "            <td>1950</td>\n",
       "            <td>2.51</td>\n",
       "            <td>212</td>\n",
       "            <td>3110</td>\n",
       "            <td>54000000</td>\n",
       "            <td>6.18</td>\n",
       "            <td>47.6</td>\n",
       "        </tr>\n",
       "        <tr>\n",
       "            <td>Brazil</td>\n",
       "            <td>1960</td>\n",
       "            <td>3.68</td>\n",
       "            <td>169</td>\n",
       "            <td>4550</td>\n",
       "            <td>73100000</td>\n",
       "            <td>6.21</td>\n",
       "            <td>52.4</td>\n",
       "        </tr>\n",
       "        <tr>\n",
       "            <td>Brazil</td>\n",
       "            <td>1970</td>\n",
       "            <td>5.12</td>\n",
       "            <td>133</td>\n",
       "            <td>6330</td>\n",
       "            <td>96400000</td>\n",
       "            <td>5.02</td>\n",
       "            <td>56.9</td>\n",
       "        </tr>\n",
       "        <tr>\n",
       "            <td>Brazil</td>\n",
       "            <td>1980</td>\n",
       "            <td>9.04</td>\n",
       "            <td>96.3</td>\n",
       "            <td>11200</td>\n",
       "            <td>122000000</td>\n",
       "            <td>4.07</td>\n",
       "            <td>62.7</td>\n",
       "        </tr>\n",
       "        <tr>\n",
       "            <td>Brazil</td>\n",
       "            <td>1990</td>\n",
       "            <td>9.6</td>\n",
       "            <td>63</td>\n",
       "            <td>10600</td>\n",
       "            <td>151000000</td>\n",
       "            <td>2.81</td>\n",
       "            <td>67.3</td>\n",
       "        </tr>\n",
       "        <tr>\n",
       "            <td>Brazil</td>\n",
       "            <td>2000</td>\n",
       "            <td>13.1</td>\n",
       "            <td>34.8</td>\n",
       "            <td>11900</td>\n",
       "            <td>176000000</td>\n",
       "            <td>2.3</td>\n",
       "            <td>71.2</td>\n",
       "        </tr>\n",
       "        <tr>\n",
       "            <td>Brazil</td>\n",
       "            <td>2010</td>\n",
       "            <td>17.7</td>\n",
       "            <td>18.7</td>\n",
       "            <td>14800</td>\n",
       "            <td>196000000</td>\n",
       "            <td>1.81</td>\n",
       "            <td>73.8</td>\n",
       "        </tr>\n",
       "        <tr>\n",
       "            <td>Brazil</td>\n",
       "            <td>2020</td>\n",
       "            <td>21.0</td>\n",
       "            <td>13.5</td>\n",
       "            <td>14100</td>\n",
       "            <td>213000000</td>\n",
       "            <td>1.67</td>\n",
       "            <td>74.5</td>\n",
       "        </tr>\n",
       "    </tbody>\n",
       "</table>"
      ],
      "text/plain": [
       "[('Brazil', 1900, 1.01, 417, 1250, 18100000, 5.88, 31.1),\n",
       " ('Brazil', 1910, 1.14, 410, 1410, 22400000, 5.9, 30.9),\n",
       " ('Brazil', 1920, 1.43, 400, 1770, 27600000, 5.9, 30.8),\n",
       " ('Brazil', 1930, 1.56, 391, 1930, 33800000, 5.9, 30.6),\n",
       " ('Brazil', 1940, 1.86, 315, 2300, 41600000, 5.9, 34.8),\n",
       " ('Brazil', 1950, 2.51, 212, 3110, 54000000, 6.18, 47.6),\n",
       " ('Brazil', 1960, 3.68, 169, 4550, 73100000, 6.21, 52.4),\n",
       " ('Brazil', 1970, 5.12, 133, 6330, 96400000, 5.02, 56.9),\n",
       " ('Brazil', 1980, 9.04, 96.3, 11200, 122000000, 4.07, 62.7),\n",
       " ('Brazil', 1990, 9.6, 63, 10600, 151000000, 2.81, 67.3),\n",
       " ('Brazil', 2000, 13.1, 34.8, 11900, 176000000, 2.3, 71.2),\n",
       " ('Brazil', 2010, 17.7, 18.7, 14800, 196000000, 1.81, 73.8),\n",
       " ('Brazil', 2020, 21.0, 13.5, 14100, 213000000, 1.67, 74.5)]"
      ]
     },
     "execution_count": 4,
     "metadata": {},
     "output_type": "execute_result"
    }
   ],
   "source": [
    "%%sql\n",
    "\n",
    "SELECT  c.country as \"pais\", \n",
    "        gdp.ref_year AS \"ano\", \n",
    "        avgi.mean_usd as \"pib\", \n",
    "        cm.tot_deaths as \"mort_inf\", \n",
    "        gdp.gdp_pc as \"renda_per_capita\", \n",
    "        p.tot_pop as \"populacao\", \n",
    "        f.mean_babies as \"nascimentos\", \n",
    "        le.tot_years as \"expec_vida\" \n",
    "        \n",
    "FROM country as c \n",
    "\n",
    "JOIN gdp_pc AS gdp ON c.country = gdp.country AND gdp.ref_year IN (1900,1910,1920,1930,1940,1950,1960,1970,1980,1990,2000,2010,2020) \n",
    "JOIN avg_income AS avgi ON c.country = avgi.country AND avgi.ref_year = gdp.ref_year \n",
    "JOIN child_mortality AS cm ON c.country = cm.country AND cm.ref_year = gdp.ref_year \n",
    "JOIN population AS p ON c.country = p.country AND p.ref_year = gdp.ref_year \n",
    "JOIN fertility AS f ON c.country = f.country AND f.ref_year = gdp.ref_year \n",
    "JOIN life_expectancy AS le ON c.country = le.country AND le.ref_year = gdp.ref_year \n",
    "\n",
    "WHERE c.country = 'Brazil' ORDER BY ano ASC"
   ]
  },
  {
   "cell_type": "markdown",
   "id": "753c5fd6",
   "metadata": {},
   "source": [
    "#### This version doesn't use the `country` table and columns, it just jumps to the information that we need. A way better :)"
   ]
  },
  {
   "cell_type": "code",
   "execution_count": 5,
   "id": "5cc4f3ef",
   "metadata": {
    "vscode": {
     "languageId": "sql"
    }
   },
   "outputs": [
    {
     "name": "stdout",
     "output_type": "stream",
     "text": [
      " * sqlite:///data/curso_sql.db\n",
      "Done.\n"
     ]
    },
    {
     "data": {
      "text/html": [
       "<table>\n",
       "    <thead>\n",
       "        <tr>\n",
       "            <th>ano</th>\n",
       "            <th>pib</th>\n",
       "            <th>mort_inf</th>\n",
       "            <th>renda_per_capita</th>\n",
       "            <th>populacao</th>\n",
       "            <th>nascimentos</th>\n",
       "            <th>expec_vida</th>\n",
       "        </tr>\n",
       "    </thead>\n",
       "    <tbody>\n",
       "        <tr>\n",
       "            <td>1900</td>\n",
       "            <td>1.01</td>\n",
       "            <td>417</td>\n",
       "            <td>1250</td>\n",
       "            <td>18100000</td>\n",
       "            <td>5.88</td>\n",
       "            <td>31.1</td>\n",
       "        </tr>\n",
       "        <tr>\n",
       "            <td>1910</td>\n",
       "            <td>1.14</td>\n",
       "            <td>410</td>\n",
       "            <td>1410</td>\n",
       "            <td>22400000</td>\n",
       "            <td>5.9</td>\n",
       "            <td>30.9</td>\n",
       "        </tr>\n",
       "        <tr>\n",
       "            <td>1920</td>\n",
       "            <td>1.43</td>\n",
       "            <td>400</td>\n",
       "            <td>1770</td>\n",
       "            <td>27600000</td>\n",
       "            <td>5.9</td>\n",
       "            <td>30.8</td>\n",
       "        </tr>\n",
       "        <tr>\n",
       "            <td>1930</td>\n",
       "            <td>1.56</td>\n",
       "            <td>391</td>\n",
       "            <td>1930</td>\n",
       "            <td>33800000</td>\n",
       "            <td>5.9</td>\n",
       "            <td>30.6</td>\n",
       "        </tr>\n",
       "        <tr>\n",
       "            <td>1940</td>\n",
       "            <td>1.86</td>\n",
       "            <td>315</td>\n",
       "            <td>2300</td>\n",
       "            <td>41600000</td>\n",
       "            <td>5.9</td>\n",
       "            <td>34.8</td>\n",
       "        </tr>\n",
       "        <tr>\n",
       "            <td>1950</td>\n",
       "            <td>2.51</td>\n",
       "            <td>212</td>\n",
       "            <td>3110</td>\n",
       "            <td>54000000</td>\n",
       "            <td>6.18</td>\n",
       "            <td>47.6</td>\n",
       "        </tr>\n",
       "        <tr>\n",
       "            <td>1960</td>\n",
       "            <td>3.68</td>\n",
       "            <td>169</td>\n",
       "            <td>4550</td>\n",
       "            <td>73100000</td>\n",
       "            <td>6.21</td>\n",
       "            <td>52.4</td>\n",
       "        </tr>\n",
       "        <tr>\n",
       "            <td>1970</td>\n",
       "            <td>5.12</td>\n",
       "            <td>133</td>\n",
       "            <td>6330</td>\n",
       "            <td>96400000</td>\n",
       "            <td>5.02</td>\n",
       "            <td>56.9</td>\n",
       "        </tr>\n",
       "        <tr>\n",
       "            <td>1980</td>\n",
       "            <td>9.04</td>\n",
       "            <td>96.3</td>\n",
       "            <td>11200</td>\n",
       "            <td>122000000</td>\n",
       "            <td>4.07</td>\n",
       "            <td>62.7</td>\n",
       "        </tr>\n",
       "        <tr>\n",
       "            <td>1990</td>\n",
       "            <td>9.6</td>\n",
       "            <td>63</td>\n",
       "            <td>10600</td>\n",
       "            <td>151000000</td>\n",
       "            <td>2.81</td>\n",
       "            <td>67.3</td>\n",
       "        </tr>\n",
       "        <tr>\n",
       "            <td>2000</td>\n",
       "            <td>13.1</td>\n",
       "            <td>34.8</td>\n",
       "            <td>11900</td>\n",
       "            <td>176000000</td>\n",
       "            <td>2.3</td>\n",
       "            <td>71.2</td>\n",
       "        </tr>\n",
       "        <tr>\n",
       "            <td>2010</td>\n",
       "            <td>17.7</td>\n",
       "            <td>18.7</td>\n",
       "            <td>14800</td>\n",
       "            <td>196000000</td>\n",
       "            <td>1.81</td>\n",
       "            <td>73.8</td>\n",
       "        </tr>\n",
       "        <tr>\n",
       "            <td>2020</td>\n",
       "            <td>21.0</td>\n",
       "            <td>13.5</td>\n",
       "            <td>14100</td>\n",
       "            <td>213000000</td>\n",
       "            <td>1.67</td>\n",
       "            <td>74.5</td>\n",
       "        </tr>\n",
       "    </tbody>\n",
       "</table>"
      ],
      "text/plain": [
       "[(1900, 1.01, 417, 1250, 18100000, 5.88, 31.1),\n",
       " (1910, 1.14, 410, 1410, 22400000, 5.9, 30.9),\n",
       " (1920, 1.43, 400, 1770, 27600000, 5.9, 30.8),\n",
       " (1930, 1.56, 391, 1930, 33800000, 5.9, 30.6),\n",
       " (1940, 1.86, 315, 2300, 41600000, 5.9, 34.8),\n",
       " (1950, 2.51, 212, 3110, 54000000, 6.18, 47.6),\n",
       " (1960, 3.68, 169, 4550, 73100000, 6.21, 52.4),\n",
       " (1970, 5.12, 133, 6330, 96400000, 5.02, 56.9),\n",
       " (1980, 9.04, 96.3, 11200, 122000000, 4.07, 62.7),\n",
       " (1990, 9.6, 63, 10600, 151000000, 2.81, 67.3),\n",
       " (2000, 13.1, 34.8, 11900, 176000000, 2.3, 71.2),\n",
       " (2010, 17.7, 18.7, 14800, 196000000, 1.81, 73.8),\n",
       " (2020, 21.0, 13.5, 14100, 213000000, 1.67, 74.5)]"
      ]
     },
     "execution_count": 5,
     "metadata": {},
     "output_type": "execute_result"
    }
   ],
   "source": [
    "%%sql\n",
    "\n",
    "SELECT \n",
    "    gdp.ref_year AS \"ano\",\n",
    "    avgi.mean_usd AS \"pib\",\n",
    "    cm.tot_deaths AS \"mort_inf\",\n",
    "    gdp.gdp_pc AS \"renda_per_capita\",\n",
    "    p.tot_pop AS \"populacao\",\n",
    "    f.mean_babies AS \"nascimentos\",\n",
    "    le.tot_years AS \"expec_vida\"\n",
    "FROM gdp_pc gdp\n",
    "\n",
    "JOIN avg_income avgi ON gdp.country = avgi.country AND gdp.ref_year = avgi.ref_year\n",
    "JOIN child_mortality cm ON gdp.country = cm.country AND gdp.ref_year = cm.ref_year\n",
    "JOIN population p ON gdp.country = p.country AND gdp.ref_year = p.ref_year\n",
    "JOIN fertility f ON gdp.country = f.country AND gdp.ref_year = f.ref_year\n",
    "JOIN life_expectancy le ON gdp.country = le.country AND gdp.ref_year = le.ref_year\n",
    "\n",
    "WHERE gdp.country = 'Brazil' AND gdp.ref_year IN (1900,1910,1920,1930,1940,1950,1960,1970,1980,1990,2000,2010,2020)\n",
    "ORDER BY gdp.ref_year;\n"
   ]
  },
  {
   "cell_type": "markdown",
   "id": "0841a945",
   "metadata": {},
   "source": [
    "### LEFT JOINS "
   ]
  },
  {
   "cell_type": "markdown",
   "id": "098d34b5",
   "metadata": {},
   "source": [
    "#### Need to get child mortality rate and births rate on the six smallest countries in Europe (Andorra, Liechtenstein, Malta, Monaco, San Marino and Holy-See (Vatican)) for the year 2000\n"
   ]
  },
  {
   "cell_type": "code",
   "execution_count": 6,
   "id": "6d7fd0e1",
   "metadata": {
    "vscode": {
     "languageId": "sql"
    }
   },
   "outputs": [
    {
     "name": "stdout",
     "output_type": "stream",
     "text": [
      " * sqlite:///data/curso_sql.db\n",
      "Done.\n"
     ]
    },
    {
     "data": {
      "text/html": [
       "<table>\n",
       "    <thead>\n",
       "        <tr>\n",
       "            <th>country</th>\n",
       "            <th>tot_deaths</th>\n",
       "            <th>mean_babies</th>\n",
       "        </tr>\n",
       "    </thead>\n",
       "    <tbody>\n",
       "        <tr>\n",
       "            <td>Andorra</td>\n",
       "            <td>6.41</td>\n",
       "            <td>None</td>\n",
       "        </tr>\n",
       "        <tr>\n",
       "            <td>Holy See</td>\n",
       "            <td>37.4</td>\n",
       "            <td>None</td>\n",
       "        </tr>\n",
       "        <tr>\n",
       "            <td>Liechtenstein</td>\n",
       "            <td>11.5</td>\n",
       "            <td>None</td>\n",
       "        </tr>\n",
       "        <tr>\n",
       "            <td>Monaco</td>\n",
       "            <td>5.16</td>\n",
       "            <td>None</td>\n",
       "        </tr>\n",
       "        <tr>\n",
       "            <td>Malta</td>\n",
       "            <td>7.59</td>\n",
       "            <td>1.67</td>\n",
       "        </tr>\n",
       "        <tr>\n",
       "            <td>San Marino</td>\n",
       "            <td>6.07</td>\n",
       "            <td>None</td>\n",
       "        </tr>\n",
       "    </tbody>\n",
       "</table>"
      ],
      "text/plain": [
       "[('Andorra', 6.41, None),\n",
       " ('Holy See', 37.4, None),\n",
       " ('Liechtenstein', 11.5, None),\n",
       " ('Monaco', 5.16, None),\n",
       " ('Malta', 7.59, 1.67),\n",
       " ('San Marino', 6.07, None)]"
      ]
     },
     "execution_count": 6,
     "metadata": {},
     "output_type": "execute_result"
    }
   ],
   "source": [
    "%%sql\n",
    "\n",
    "SELECT cm.country, \n",
    "\t   cm.tot_deaths, \n",
    "\t   f.mean_babies\n",
    "FROM child_mortality cm\n",
    "\n",
    "LEFT JOIN fertility f ON cm.country = f.country AND cm.ref_year = f.ref_year\n",
    "\n",
    "WHERE cm.country IN ( 'Andorra', 'Holy See', 'Liechtenstein', 'Malta', 'Monaco', 'San Marino') AND cm.ref_year= 2000;\t"
   ]
  },
  {
   "cell_type": "markdown",
   "id": "161c02c1",
   "metadata": {},
   "source": [
    "#### Geting the same table as above, but with the population of each country for 2000"
   ]
  },
  {
   "cell_type": "code",
   "execution_count": 7,
   "id": "810f2cd0",
   "metadata": {
    "vscode": {
     "languageId": "sql"
    }
   },
   "outputs": [
    {
     "name": "stdout",
     "output_type": "stream",
     "text": [
      " * sqlite:///data/curso_sql.db\n",
      "Done.\n"
     ]
    },
    {
     "data": {
      "text/html": [
       "<table>\n",
       "    <thead>\n",
       "        <tr>\n",
       "            <th>country</th>\n",
       "            <th>ref_year</th>\n",
       "            <th>tot_deaths</th>\n",
       "            <th>mean_babies</th>\n",
       "            <th>tot_pop</th>\n",
       "        </tr>\n",
       "    </thead>\n",
       "    <tbody>\n",
       "        <tr>\n",
       "            <td>Andorra</td>\n",
       "            <td>2000</td>\n",
       "            <td>6.41</td>\n",
       "            <td>None</td>\n",
       "            <td>66100</td>\n",
       "        </tr>\n",
       "        <tr>\n",
       "            <td>Holy See</td>\n",
       "            <td>2000</td>\n",
       "            <td>37.4</td>\n",
       "            <td>None</td>\n",
       "            <td>779</td>\n",
       "        </tr>\n",
       "        <tr>\n",
       "            <td>Liechtenstein</td>\n",
       "            <td>2000</td>\n",
       "            <td>11.5</td>\n",
       "            <td>None</td>\n",
       "            <td>33000</td>\n",
       "        </tr>\n",
       "        <tr>\n",
       "            <td>Monaco</td>\n",
       "            <td>2000</td>\n",
       "            <td>5.16</td>\n",
       "            <td>None</td>\n",
       "            <td>32500</td>\n",
       "        </tr>\n",
       "        <tr>\n",
       "            <td>Malta</td>\n",
       "            <td>2000</td>\n",
       "            <td>7.59</td>\n",
       "            <td>1.67</td>\n",
       "            <td>399000</td>\n",
       "        </tr>\n",
       "        <tr>\n",
       "            <td>San Marino</td>\n",
       "            <td>2000</td>\n",
       "            <td>6.07</td>\n",
       "            <td>None</td>\n",
       "            <td>26800</td>\n",
       "        </tr>\n",
       "    </tbody>\n",
       "</table>"
      ],
      "text/plain": [
       "[('Andorra', 2000, 6.41, None, 66100),\n",
       " ('Holy See', 2000, 37.4, None, 779),\n",
       " ('Liechtenstein', 2000, 11.5, None, 33000),\n",
       " ('Monaco', 2000, 5.16, None, 32500),\n",
       " ('Malta', 2000, 7.59, 1.67, 399000),\n",
       " ('San Marino', 2000, 6.07, None, 26800)]"
      ]
     },
     "execution_count": 7,
     "metadata": {},
     "output_type": "execute_result"
    }
   ],
   "source": [
    "%%sql\n",
    "\n",
    "SELECT cm.country, \n",
    "       cm.ref_year, \n",
    "       cm.tot_deaths, \n",
    "       f.mean_babies, \n",
    "       p.tot_pop\n",
    "FROM child_mortality cm \n",
    "\n",
    "LEFT JOIN fertility f ON cm.country = f.country AND cm.ref_year = f.ref_year \n",
    "LEFT JOIN population p ON cm.country = p.country AND cm.ref_year = p.ref_year\n",
    "\n",
    "WHERE cm.ref_year = 2000 AND cm.country IN ('Andorra', 'Holy See', 'Liechtenstein', 'Malta', 'Monaco', 'San Marino')"
   ]
  },
  {
   "cell_type": "markdown",
   "id": "ba6ec7a7",
   "metadata": {},
   "source": [
    "#### Using **INNER JOIN** between `child_mortality` and `population` and then **LEFT JOIN** between `child_mortality` and `fertility`. This time the results are the same:"
   ]
  },
  {
   "cell_type": "code",
   "execution_count": 8,
   "id": "cfd5ff2d",
   "metadata": {
    "vscode": {
     "languageId": "sql"
    }
   },
   "outputs": [
    {
     "name": "stdout",
     "output_type": "stream",
     "text": [
      " * sqlite:///data/curso_sql.db\n",
      "Done.\n"
     ]
    },
    {
     "data": {
      "text/html": [
       "<table>\n",
       "    <thead>\n",
       "        <tr>\n",
       "            <th>country</th>\n",
       "            <th>ref_year</th>\n",
       "            <th>tot_deaths</th>\n",
       "            <th>mean_babies</th>\n",
       "            <th>tot_pop</th>\n",
       "        </tr>\n",
       "    </thead>\n",
       "    <tbody>\n",
       "        <tr>\n",
       "            <td>Andorra</td>\n",
       "            <td>2000</td>\n",
       "            <td>6.41</td>\n",
       "            <td>None</td>\n",
       "            <td>66100</td>\n",
       "        </tr>\n",
       "        <tr>\n",
       "            <td>Holy See</td>\n",
       "            <td>2000</td>\n",
       "            <td>37.4</td>\n",
       "            <td>None</td>\n",
       "            <td>779</td>\n",
       "        </tr>\n",
       "        <tr>\n",
       "            <td>Liechtenstein</td>\n",
       "            <td>2000</td>\n",
       "            <td>11.5</td>\n",
       "            <td>None</td>\n",
       "            <td>33000</td>\n",
       "        </tr>\n",
       "        <tr>\n",
       "            <td>Monaco</td>\n",
       "            <td>2000</td>\n",
       "            <td>5.16</td>\n",
       "            <td>None</td>\n",
       "            <td>32500</td>\n",
       "        </tr>\n",
       "        <tr>\n",
       "            <td>Malta</td>\n",
       "            <td>2000</td>\n",
       "            <td>7.59</td>\n",
       "            <td>1.67</td>\n",
       "            <td>399000</td>\n",
       "        </tr>\n",
       "        <tr>\n",
       "            <td>San Marino</td>\n",
       "            <td>2000</td>\n",
       "            <td>6.07</td>\n",
       "            <td>None</td>\n",
       "            <td>26800</td>\n",
       "        </tr>\n",
       "    </tbody>\n",
       "</table>"
      ],
      "text/plain": [
       "[('Andorra', 2000, 6.41, None, 66100),\n",
       " ('Holy See', 2000, 37.4, None, 779),\n",
       " ('Liechtenstein', 2000, 11.5, None, 33000),\n",
       " ('Monaco', 2000, 5.16, None, 32500),\n",
       " ('Malta', 2000, 7.59, 1.67, 399000),\n",
       " ('San Marino', 2000, 6.07, None, 26800)]"
      ]
     },
     "execution_count": 8,
     "metadata": {},
     "output_type": "execute_result"
    }
   ],
   "source": [
    "%%sql\n",
    "\n",
    "SELECT cm.country, \n",
    "       cm.ref_year, \n",
    "       cm.tot_deaths, \n",
    "       f.mean_babies, \n",
    "       p.tot_pop\n",
    "FROM child_mortality AS cm\n",
    "\n",
    "INNER JOIN population p ON cm.country = p.country AND cm.ref_year = p.ref_year\n",
    "LEFT JOIN fertility f ON cm.country = f.country AND cm.ref_year = f.ref_year\n",
    "\n",
    "WHERE cm.ref_year = 2000 and cm.country IN ('Andorra', 'Holy See', 'Liechtenstein', 'Malta', 'Monaco', 'San Marino')"
   ]
  },
  {
   "cell_type": "markdown",
   "id": "567bede4",
   "metadata": {},
   "source": [
    "##### Now I only change the order of the tables, using `fertility` first and then `child_mortality` with **RIGHT JOIN** being their correspondence"
   ]
  },
  {
   "cell_type": "code",
   "execution_count": 9,
   "id": "a15a2597",
   "metadata": {
    "vscode": {
     "languageId": "sql"
    }
   },
   "outputs": [
    {
     "name": "stdout",
     "output_type": "stream",
     "text": [
      " * sqlite:///data/curso_sql.db\n",
      "Done.\n"
     ]
    },
    {
     "data": {
      "text/html": [
       "<table>\n",
       "    <thead>\n",
       "        <tr>\n",
       "            <th>country</th>\n",
       "            <th>country_1</th>\n",
       "            <th>tot_deaths</th>\n",
       "            <th>mean_babies</th>\n",
       "        </tr>\n",
       "    </thead>\n",
       "    <tbody>\n",
       "        <tr>\n",
       "            <td>Aruba</td>\n",
       "            <td>None</td>\n",
       "            <td>None</td>\n",
       "            <td>1.87</td>\n",
       "        </tr>\n",
       "        <tr>\n",
       "            <td>Cuba</td>\n",
       "            <td>Cuba</td>\n",
       "            <td>8.55</td>\n",
       "            <td>1.62</td>\n",
       "        </tr>\n",
       "        <tr>\n",
       "            <td>Martinique</td>\n",
       "            <td>None</td>\n",
       "            <td>None</td>\n",
       "            <td>1.9</td>\n",
       "        </tr>\n",
       "        <tr>\n",
       "            <td>Puerto Rico</td>\n",
       "            <td>None</td>\n",
       "            <td>None</td>\n",
       "            <td>1.91</td>\n",
       "        </tr>\n",
       "        <tr>\n",
       "            <td>None</td>\n",
       "            <td>Dominica</td>\n",
       "            <td>14.8</td>\n",
       "            <td>None</td>\n",
       "        </tr>\n",
       "    </tbody>\n",
       "</table>"
      ],
      "text/plain": [
       "[('Aruba', None, None, 1.87),\n",
       " ('Cuba', 'Cuba', 8.55, 1.62),\n",
       " ('Martinique', None, None, 1.9),\n",
       " ('Puerto Rico', None, None, 1.91),\n",
       " (None, 'Dominica', 14.8, None)]"
      ]
     },
     "execution_count": 9,
     "metadata": {},
     "output_type": "execute_result"
    }
   ],
   "source": [
    "%%sql\n",
    "\n",
    "SELECT \n",
    "    f.country, \n",
    "    cm.country, \n",
    "    cm.tot_deaths, \n",
    "    f.mean_babies\n",
    "FROM fertility f\n",
    "FULL JOIN child_mortality cm \n",
    "    ON cm.country = f.country \n",
    "    AND cm.ref_year = f.ref_year\n",
    "WHERE \n",
    "    (f.country IN ('Aruba', 'Martinique', 'Puerto Rico', 'Dominica', 'Cuba')\n",
    "     OR cm.country IN ('Aruba', 'Martinique', 'Puerto Rico', 'Dominica', 'Cuba'))\n",
    "    AND (f.ref_year = 2000 OR cm.ref_year = 2000);\n"
   ]
  },
  {
   "cell_type": "markdown",
   "id": "4417df28",
   "metadata": {},
   "source": [
    "##### Notice how the filter `f.ref_year` = 2000 is applied inside the **ON** clause.\n",
    "##### This ensures that the year condition affects only the **JOIN** matching, preserving rows from `child_mortality` even when no match exists in fertility.\n",
    "##### If the same filter was placed in the **WHERE** clause, those rows would be dropped."
   ]
  },
  {
   "cell_type": "markdown",
   "id": "6ab1b6ec",
   "metadata": {},
   "source": [
    "### **Full Join**"
   ]
  },
  {
   "cell_type": "markdown",
   "id": "b47bfdae",
   "metadata": {},
   "source": [
    "#### With the **FULL JOIN** method we can have all countries in the query, again using the `fertility` and `child_mortality` table we will get information of some Caribbean countries."
   ]
  },
  {
   "cell_type": "code",
   "execution_count": 10,
   "id": "6ebb5e10",
   "metadata": {
    "vscode": {
     "languageId": "sql"
    }
   },
   "outputs": [
    {
     "name": "stdout",
     "output_type": "stream",
     "text": [
      " * sqlite:///data/curso_sql.db\n",
      "Done.\n"
     ]
    },
    {
     "data": {
      "text/html": [
       "<table>\n",
       "    <thead>\n",
       "        <tr>\n",
       "            <th>country</th>\n",
       "            <th>mean_babies</th>\n",
       "            <th>tot_deaths</th>\n",
       "        </tr>\n",
       "    </thead>\n",
       "    <tbody>\n",
       "        <tr>\n",
       "            <td>Aruba</td>\n",
       "            <td>1.87</td>\n",
       "            <td>None</td>\n",
       "        </tr>\n",
       "        <tr>\n",
       "            <td>Cuba</td>\n",
       "            <td>1.62</td>\n",
       "            <td>8.55</td>\n",
       "        </tr>\n",
       "        <tr>\n",
       "            <td>Martinique</td>\n",
       "            <td>1.9</td>\n",
       "            <td>None</td>\n",
       "        </tr>\n",
       "        <tr>\n",
       "            <td>Puerto Rico</td>\n",
       "            <td>1.91</td>\n",
       "            <td>None</td>\n",
       "        </tr>\n",
       "    </tbody>\n",
       "</table>"
      ],
      "text/plain": [
       "[('Aruba', 1.87, None),\n",
       " ('Cuba', 1.62, 8.55),\n",
       " ('Martinique', 1.9, None),\n",
       " ('Puerto Rico', 1.91, None)]"
      ]
     },
     "execution_count": 10,
     "metadata": {},
     "output_type": "execute_result"
    }
   ],
   "source": [
    "%%sql\n",
    "\n",
    "SELECT f.country,\n",
    "\t   f.mean_babies,\n",
    "\t   cm.tot_deaths\n",
    "FROM fertility f\n",
    "FULL JOIN child_mortality cm ON f.country = cm.country AND f.ref_year = cm.ref_year\n",
    "WHERE f.country IN ('Aruba','Cuba','Dominica','Martinique','Puerto Rico') AND f.ref_year = 2000"
   ]
  },
  {
   "cell_type": "markdown",
   "id": "59104b5f",
   "metadata": {},
   "source": [
    "#### As a bonus point, we can use **COALESCE**, since the country Dominica is not present in `fertility`"
   ]
  },
  {
   "cell_type": "code",
   "execution_count": 11,
   "id": "22239da8",
   "metadata": {
    "vscode": {
     "languageId": "sql"
    }
   },
   "outputs": [
    {
     "name": "stdout",
     "output_type": "stream",
     "text": [
      " * sqlite:///data/curso_sql.db\n",
      "Done.\n"
     ]
    },
    {
     "data": {
      "text/html": [
       "<table>\n",
       "    <thead>\n",
       "        <tr>\n",
       "            <th>country</th>\n",
       "            <th>mean_babies</th>\n",
       "            <th>tot_deaths</th>\n",
       "        </tr>\n",
       "    </thead>\n",
       "    <tbody>\n",
       "        <tr>\n",
       "            <td>Aruba</td>\n",
       "            <td>1.87</td>\n",
       "            <td>None</td>\n",
       "        </tr>\n",
       "        <tr>\n",
       "            <td>Cuba</td>\n",
       "            <td>1.62</td>\n",
       "            <td>8.55</td>\n",
       "        </tr>\n",
       "        <tr>\n",
       "            <td>Martinique</td>\n",
       "            <td>1.9</td>\n",
       "            <td>None</td>\n",
       "        </tr>\n",
       "        <tr>\n",
       "            <td>Puerto Rico</td>\n",
       "            <td>1.91</td>\n",
       "            <td>None</td>\n",
       "        </tr>\n",
       "        <tr>\n",
       "            <td>Dominica</td>\n",
       "            <td>None</td>\n",
       "            <td>14.8</td>\n",
       "        </tr>\n",
       "    </tbody>\n",
       "</table>"
      ],
      "text/plain": [
       "[('Aruba', 1.87, None),\n",
       " ('Cuba', 1.62, 8.55),\n",
       " ('Martinique', 1.9, None),\n",
       " ('Puerto Rico', 1.91, None),\n",
       " ('Dominica', None, 14.8)]"
      ]
     },
     "execution_count": 11,
     "metadata": {},
     "output_type": "execute_result"
    }
   ],
   "source": [
    "%%sql\n",
    "\n",
    "SELECT \n",
    "    COALESCE(f.country, cm.country) AS country, \n",
    "    f.mean_babies, \n",
    "    cm.tot_deaths\n",
    "FROM fertility f\n",
    "FULL JOIN child_mortality cm \n",
    "    ON f.country = cm.country \n",
    "   AND f.ref_year = cm.ref_year\n",
    "WHERE COALESCE(f.country, cm.country) IN ('Aruba', 'Cuba', 'Dominica', 'Martinique', 'Puerto Rico')\n",
    "  AND (f.ref_year = 2000 OR cm.ref_year = 2000);\n"
   ]
  },
  {
   "cell_type": "markdown",
   "id": "0e1e18cf",
   "metadata": {},
   "source": [
    "## Set Operations"
   ]
  },
  {
   "cell_type": "markdown",
   "id": "d7f1bf4d",
   "metadata": {},
   "source": [
    "### **UNION**"
   ]
  },
  {
   "cell_type": "markdown",
   "id": "15e05e76",
   "metadata": {},
   "source": [
    "#### For the example, using **UNION** clause, we will get the BRICS countries (Brazil, Russia, India, China and South Africa) from `men_years_at_school` and `women_years_at_school` in the year of 2000."
   ]
  },
  {
   "cell_type": "code",
   "execution_count": 12,
   "id": "61d14a59",
   "metadata": {
    "vscode": {
     "languageId": "sql"
    }
   },
   "outputs": [
    {
     "name": "stdout",
     "output_type": "stream",
     "text": [
      " * sqlite:///data/curso_sql.db\n",
      "Done.\n"
     ]
    },
    {
     "data": {
      "text/html": [
       "<table>\n",
       "    <thead>\n",
       "        <tr>\n",
       "            <th>country</th>\n",
       "            <th>ref_year</th>\n",
       "            <th>gender</th>\n",
       "            <th>mean_years</th>\n",
       "        </tr>\n",
       "    </thead>\n",
       "    <tbody>\n",
       "        <tr>\n",
       "            <td>Brazil</td>\n",
       "            <td>2009</td>\n",
       "            <td>Female</td>\n",
       "            <td>7.2</td>\n",
       "        </tr>\n",
       "        <tr>\n",
       "            <td>Brazil</td>\n",
       "            <td>2009</td>\n",
       "            <td>Male</td>\n",
       "            <td>6.8</td>\n",
       "        </tr>\n",
       "        <tr>\n",
       "            <td>China</td>\n",
       "            <td>2009</td>\n",
       "            <td>Female</td>\n",
       "            <td>6.4</td>\n",
       "        </tr>\n",
       "        <tr>\n",
       "            <td>China</td>\n",
       "            <td>2009</td>\n",
       "            <td>Male</td>\n",
       "            <td>7.7</td>\n",
       "        </tr>\n",
       "        <tr>\n",
       "            <td>India</td>\n",
       "            <td>2009</td>\n",
       "            <td>Female</td>\n",
       "            <td>3.4</td>\n",
       "        </tr>\n",
       "        <tr>\n",
       "            <td>India</td>\n",
       "            <td>2009</td>\n",
       "            <td>Male</td>\n",
       "            <td>6.2</td>\n",
       "        </tr>\n",
       "        <tr>\n",
       "            <td>Russia</td>\n",
       "            <td>2009</td>\n",
       "            <td>Female</td>\n",
       "            <td>12.9</td>\n",
       "        </tr>\n",
       "        <tr>\n",
       "            <td>Russia</td>\n",
       "            <td>2009</td>\n",
       "            <td>Male</td>\n",
       "            <td>12.7</td>\n",
       "        </tr>\n",
       "        <tr>\n",
       "            <td>South Africa</td>\n",
       "            <td>2009</td>\n",
       "            <td>Female</td>\n",
       "            <td>8.5</td>\n",
       "        </tr>\n",
       "        <tr>\n",
       "            <td>South Africa</td>\n",
       "            <td>2009</td>\n",
       "            <td>Male</td>\n",
       "            <td>8.5</td>\n",
       "        </tr>\n",
       "    </tbody>\n",
       "</table>"
      ],
      "text/plain": [
       "[('Brazil', 2009, 'Female', 7.2),\n",
       " ('Brazil', 2009, 'Male', 6.8),\n",
       " ('China', 2009, 'Female', 6.4),\n",
       " ('China', 2009, 'Male', 7.7),\n",
       " ('India', 2009, 'Female', 3.4),\n",
       " ('India', 2009, 'Male', 6.2),\n",
       " ('Russia', 2009, 'Female', 12.9),\n",
       " ('Russia', 2009, 'Male', 12.7),\n",
       " ('South Africa', 2009, 'Female', 8.5),\n",
       " ('South Africa', 2009, 'Male', 8.5)]"
      ]
     },
     "execution_count": 12,
     "metadata": {},
     "output_type": "execute_result"
    }
   ],
   "source": [
    "%%sql\n",
    "\n",
    "SELECT m.country , m.ref_year, 'Male' AS gender, m.mean_years\n",
    "FROM men_years_at_school m\n",
    "WHERE m.ref_year = 2009 AND m.country IN ('Brazil','Russia','India','China','South Africa')\n",
    "UNION\n",
    "SELECT w.country, w.ref_year, 'Female' AS gender, w.mean_years\n",
    "FROM women_years_at_school w\n",
    "WHERE w.ref_year = 2009 AND w.country IN ('Brazil','Russia','India','China','South Africa')"
   ]
  },
  {
   "cell_type": "markdown",
   "id": "f0be4853",
   "metadata": {},
   "source": [
    "### **EXCEPT**"
   ]
  },
  {
   "cell_type": "markdown",
   "id": "69c223df",
   "metadata": {},
   "source": [
    "#### Finding which country is in `child_mortality` but not in `fertility`"
   ]
  },
  {
   "cell_type": "code",
   "execution_count": 13,
   "id": "5fbb265a",
   "metadata": {
    "vscode": {
     "languageId": "sql"
    }
   },
   "outputs": [
    {
     "name": "stdout",
     "output_type": "stream",
     "text": [
      " * sqlite:///data/curso_sql.db\n",
      "Done.\n"
     ]
    },
    {
     "data": {
      "text/html": [
       "<table>\n",
       "    <thead>\n",
       "        <tr>\n",
       "            <th>country</th>\n",
       "        </tr>\n",
       "    </thead>\n",
       "    <tbody>\n",
       "        <tr>\n",
       "            <td>Andorra</td>\n",
       "        </tr>\n",
       "        <tr>\n",
       "            <td>Dominica</td>\n",
       "        </tr>\n",
       "        <tr>\n",
       "            <td>Holy See</td>\n",
       "        </tr>\n",
       "        <tr>\n",
       "            <td>Liechtenstein</td>\n",
       "        </tr>\n",
       "        <tr>\n",
       "            <td>Marshall Islands</td>\n",
       "        </tr>\n",
       "        <tr>\n",
       "            <td>Monaco</td>\n",
       "        </tr>\n",
       "        <tr>\n",
       "            <td>Nauru</td>\n",
       "        </tr>\n",
       "        <tr>\n",
       "            <td>Palau</td>\n",
       "        </tr>\n",
       "        <tr>\n",
       "            <td>San Marino</td>\n",
       "        </tr>\n",
       "        <tr>\n",
       "            <td>St. Kitts and Nevis</td>\n",
       "        </tr>\n",
       "        <tr>\n",
       "            <td>Tuvalu</td>\n",
       "        </tr>\n",
       "    </tbody>\n",
       "</table>"
      ],
      "text/plain": [
       "[('Andorra',),\n",
       " ('Dominica',),\n",
       " ('Holy See',),\n",
       " ('Liechtenstein',),\n",
       " ('Marshall Islands',),\n",
       " ('Monaco',),\n",
       " ('Nauru',),\n",
       " ('Palau',),\n",
       " ('San Marino',),\n",
       " ('St. Kitts and Nevis',),\n",
       " ('Tuvalu',)]"
      ]
     },
     "execution_count": 13,
     "metadata": {},
     "output_type": "execute_result"
    }
   ],
   "source": [
    "%%sql\n",
    "\n",
    "SELECT cm.country FROM child_mortality cm\n",
    "EXCEPT\n",
    "SELECT f.country FROM fertility f\n",
    "ORDER BY country ASC"
   ]
  },
  {
   "cell_type": "markdown",
   "id": "c61069e5",
   "metadata": {},
   "source": [
    "#### Comparing the countries in `population` and `child_mortality`"
   ]
  },
  {
   "cell_type": "code",
   "execution_count": 14,
   "id": "1d84f2d7",
   "metadata": {
    "vscode": {
     "languageId": "sql"
    }
   },
   "outputs": [
    {
     "name": "stdout",
     "output_type": "stream",
     "text": [
      " * sqlite:///data/curso_sql.db\n",
      "Done.\n"
     ]
    },
    {
     "data": {
      "text/html": [
       "<table>\n",
       "    <thead>\n",
       "        <tr>\n",
       "            <th>country</th>\n",
       "        </tr>\n",
       "    </thead>\n",
       "    <tbody>\n",
       "    </tbody>\n",
       "</table>"
      ],
      "text/plain": [
       "[]"
      ]
     },
     "execution_count": 14,
     "metadata": {},
     "output_type": "execute_result"
    }
   ],
   "source": [
    "%%sql\n",
    "\n",
    "SELECT p.country FROM population p\n",
    "EXCEPT\n",
    "SELECT cm.country FROM child_mortality cm"
   ]
  },
  {
   "cell_type": "markdown",
   "id": "01161978",
   "metadata": {},
   "source": [
    "#### Both have the same countries"
   ]
  },
  {
   "cell_type": "markdown",
   "id": "86497ee2",
   "metadata": {},
   "source": [
    "### **UNION ALL**"
   ]
  },
  {
   "cell_type": "markdown",
   "id": "032ff64b",
   "metadata": {},
   "source": [
    "#### Using `co2_emissions_pc` and `men_years_at_school`, we will see if there was differences in the combination"
   ]
  },
  {
   "cell_type": "code",
   "execution_count": 15,
   "id": "92ec1663",
   "metadata": {
    "vscode": {
     "languageId": "sql"
    }
   },
   "outputs": [
    {
     "name": "stdout",
     "output_type": "stream",
     "text": [
      " * sqlite:///data/curso_sql.db\n",
      "Done.\n"
     ]
    },
    {
     "data": {
      "text/html": [
       "<table>\n",
       "    <thead>\n",
       "        <tr>\n",
       "            <th>country</th>\n",
       "            <th>ref_year</th>\n",
       "            <th>co2_pc</th>\n",
       "            <th>source_column</th>\n",
       "        </tr>\n",
       "    </thead>\n",
       "    <tbody>\n",
       "        <tr>\n",
       "            <td>Brazil</td>\n",
       "            <td>2000</td>\n",
       "            <td>1.97</td>\n",
       "            <td>emissions</td>\n",
       "        </tr>\n",
       "        <tr>\n",
       "            <td>Brazil</td>\n",
       "            <td>2000</td>\n",
       "            <td>5.7</td>\n",
       "            <td>men years at school</td>\n",
       "        </tr>\n",
       "        <tr>\n",
       "            <td>Brazil</td>\n",
       "            <td>2001</td>\n",
       "            <td>1.91</td>\n",
       "            <td>emissions</td>\n",
       "        </tr>\n",
       "        <tr>\n",
       "            <td>Brazil</td>\n",
       "            <td>2001</td>\n",
       "            <td>5.8</td>\n",
       "            <td>men years at school</td>\n",
       "        </tr>\n",
       "        <tr>\n",
       "            <td>Brazil</td>\n",
       "            <td>2002</td>\n",
       "            <td>1.82</td>\n",
       "            <td>emissions</td>\n",
       "        </tr>\n",
       "        <tr>\n",
       "            <td>Brazil</td>\n",
       "            <td>2002</td>\n",
       "            <td>6.0</td>\n",
       "            <td>men years at school</td>\n",
       "        </tr>\n",
       "        <tr>\n",
       "            <td>Brazil</td>\n",
       "            <td>2003</td>\n",
       "            <td>1.76</td>\n",
       "            <td>emissions</td>\n",
       "        </tr>\n",
       "        <tr>\n",
       "            <td>Brazil</td>\n",
       "            <td>2003</td>\n",
       "            <td>6.1</td>\n",
       "            <td>men years at school</td>\n",
       "        </tr>\n",
       "        <tr>\n",
       "            <td>Brazil</td>\n",
       "            <td>2004</td>\n",
       "            <td>1.81</td>\n",
       "            <td>emissions</td>\n",
       "        </tr>\n",
       "        <tr>\n",
       "            <td>Brazil</td>\n",
       "            <td>2004</td>\n",
       "            <td>6.2</td>\n",
       "            <td>men years at school</td>\n",
       "        </tr>\n",
       "        <tr>\n",
       "            <td>Brazil</td>\n",
       "            <td>2005</td>\n",
       "            <td>1.86</td>\n",
       "            <td>emissions</td>\n",
       "        </tr>\n",
       "        <tr>\n",
       "            <td>Brazil</td>\n",
       "            <td>2005</td>\n",
       "            <td>6.3</td>\n",
       "            <td>men years at school</td>\n",
       "        </tr>\n",
       "        <tr>\n",
       "            <td>Brazil</td>\n",
       "            <td>2006</td>\n",
       "            <td>1.89</td>\n",
       "            <td>emissions</td>\n",
       "        </tr>\n",
       "        <tr>\n",
       "            <td>Brazil</td>\n",
       "            <td>2006</td>\n",
       "            <td>6.4</td>\n",
       "            <td>men years at school</td>\n",
       "        </tr>\n",
       "        <tr>\n",
       "            <td>Brazil</td>\n",
       "            <td>2007</td>\n",
       "            <td>2.05</td>\n",
       "            <td>emissions</td>\n",
       "        </tr>\n",
       "        <tr>\n",
       "            <td>Brazil</td>\n",
       "            <td>2007</td>\n",
       "            <td>6.6</td>\n",
       "            <td>men years at school</td>\n",
       "        </tr>\n",
       "        <tr>\n",
       "            <td>Brazil</td>\n",
       "            <td>2008</td>\n",
       "            <td>2.29</td>\n",
       "            <td>emissions</td>\n",
       "        </tr>\n",
       "        <tr>\n",
       "            <td>Brazil</td>\n",
       "            <td>2008</td>\n",
       "            <td>6.7</td>\n",
       "            <td>men years at school</td>\n",
       "        </tr>\n",
       "        <tr>\n",
       "            <td>Brazil</td>\n",
       "            <td>2009</td>\n",
       "            <td>2.12</td>\n",
       "            <td>emissions</td>\n",
       "        </tr>\n",
       "        <tr>\n",
       "            <td>Brazil</td>\n",
       "            <td>2009</td>\n",
       "            <td>6.8</td>\n",
       "            <td>men years at school</td>\n",
       "        </tr>\n",
       "        <tr>\n",
       "            <td>Brazil</td>\n",
       "            <td>2010</td>\n",
       "            <td>2.46</td>\n",
       "            <td>emissions</td>\n",
       "        </tr>\n",
       "        <tr>\n",
       "            <td>Brazil</td>\n",
       "            <td>2011</td>\n",
       "            <td>2.61</td>\n",
       "            <td>emissions</td>\n",
       "        </tr>\n",
       "        <tr>\n",
       "            <td>Brazil</td>\n",
       "            <td>2012</td>\n",
       "            <td>2.76</td>\n",
       "            <td>emissions</td>\n",
       "        </tr>\n",
       "        <tr>\n",
       "            <td>Brazil</td>\n",
       "            <td>2013</td>\n",
       "            <td>2.92</td>\n",
       "            <td>emissions</td>\n",
       "        </tr>\n",
       "        <tr>\n",
       "            <td>Brazil</td>\n",
       "            <td>2014</td>\n",
       "            <td>3.0</td>\n",
       "            <td>emissions</td>\n",
       "        </tr>\n",
       "        <tr>\n",
       "            <td>Brazil</td>\n",
       "            <td>2015</td>\n",
       "            <td>2.66</td>\n",
       "            <td>emissions</td>\n",
       "        </tr>\n",
       "        <tr>\n",
       "            <td>Brazil</td>\n",
       "            <td>2016</td>\n",
       "            <td>2.35</td>\n",
       "            <td>emissions</td>\n",
       "        </tr>\n",
       "        <tr>\n",
       "            <td>Brazil</td>\n",
       "            <td>2017</td>\n",
       "            <td>2.38</td>\n",
       "            <td>emissions</td>\n",
       "        </tr>\n",
       "        <tr>\n",
       "            <td>Brazil</td>\n",
       "            <td>2018</td>\n",
       "            <td>2.26</td>\n",
       "            <td>emissions</td>\n",
       "        </tr>\n",
       "        <tr>\n",
       "            <td>Brazil</td>\n",
       "            <td>2019</td>\n",
       "            <td>2.24</td>\n",
       "            <td>emissions</td>\n",
       "        </tr>\n",
       "        <tr>\n",
       "            <td>Brazil</td>\n",
       "            <td>2020</td>\n",
       "            <td>1.99</td>\n",
       "            <td>emissions</td>\n",
       "        </tr>\n",
       "        <tr>\n",
       "            <td>Brazil</td>\n",
       "            <td>2021</td>\n",
       "            <td>2.07</td>\n",
       "            <td>emissions</td>\n",
       "        </tr>\n",
       "        <tr>\n",
       "            <td>Brazil</td>\n",
       "            <td>2022</td>\n",
       "            <td>2.11</td>\n",
       "            <td>emissions</td>\n",
       "        </tr>\n",
       "    </tbody>\n",
       "</table>"
      ],
      "text/plain": [
       "[('Brazil', 2000, 1.97, 'emissions'),\n",
       " ('Brazil', 2000, 5.7, 'men years at school'),\n",
       " ('Brazil', 2001, 1.91, 'emissions'),\n",
       " ('Brazil', 2001, 5.8, 'men years at school'),\n",
       " ('Brazil', 2002, 1.82, 'emissions'),\n",
       " ('Brazil', 2002, 6.0, 'men years at school'),\n",
       " ('Brazil', 2003, 1.76, 'emissions'),\n",
       " ('Brazil', 2003, 6.1, 'men years at school'),\n",
       " ('Brazil', 2004, 1.81, 'emissions'),\n",
       " ('Brazil', 2004, 6.2, 'men years at school'),\n",
       " ('Brazil', 2005, 1.86, 'emissions'),\n",
       " ('Brazil', 2005, 6.3, 'men years at school'),\n",
       " ('Brazil', 2006, 1.89, 'emissions'),\n",
       " ('Brazil', 2006, 6.4, 'men years at school'),\n",
       " ('Brazil', 2007, 2.05, 'emissions'),\n",
       " ('Brazil', 2007, 6.6, 'men years at school'),\n",
       " ('Brazil', 2008, 2.29, 'emissions'),\n",
       " ('Brazil', 2008, 6.7, 'men years at school'),\n",
       " ('Brazil', 2009, 2.12, 'emissions'),\n",
       " ('Brazil', 2009, 6.8, 'men years at school'),\n",
       " ('Brazil', 2010, 2.46, 'emissions'),\n",
       " ('Brazil', 2011, 2.61, 'emissions'),\n",
       " ('Brazil', 2012, 2.76, 'emissions'),\n",
       " ('Brazil', 2013, 2.92, 'emissions'),\n",
       " ('Brazil', 2014, 3.0, 'emissions'),\n",
       " ('Brazil', 2015, 2.66, 'emissions'),\n",
       " ('Brazil', 2016, 2.35, 'emissions'),\n",
       " ('Brazil', 2017, 2.38, 'emissions'),\n",
       " ('Brazil', 2018, 2.26, 'emissions'),\n",
       " ('Brazil', 2019, 2.24, 'emissions'),\n",
       " ('Brazil', 2020, 1.99, 'emissions'),\n",
       " ('Brazil', 2021, 2.07, 'emissions'),\n",
       " ('Brazil', 2022, 2.11, 'emissions')]"
      ]
     },
     "execution_count": 15,
     "metadata": {},
     "output_type": "execute_result"
    }
   ],
   "source": [
    "%%sql\n",
    "SELECT *,'emissions' AS source_column\n",
    "FROM co2_emissions_pc cep\n",
    "WHERE cep.country = 'Brazil' AND cep.ref_year >= 2000\n",
    "UNION ALL\n",
    "SELECT *, 'men years at school' AS source_column\n",
    "FROM men_years_at_school myas\n",
    "WHERE myas.country = 'Brazil' AND myas.ref_year >= 2000\n",
    "ORDER BY ref_year ASC"
   ]
  },
  {
   "cell_type": "markdown",
   "id": "f2274154",
   "metadata": {},
   "source": [
    "### **INTERSECT**"
   ]
  },
  {
   "cell_type": "markdown",
   "id": "9892982a",
   "metadata": {},
   "source": [
    "#### Getting the commom lines between `co2_emissions_pc` and `men_years_at_school`"
   ]
  },
  {
   "cell_type": "code",
   "execution_count": 16,
   "id": "1dbb57aa",
   "metadata": {
    "vscode": {
     "languageId": "sql"
    }
   },
   "outputs": [
    {
     "name": "stdout",
     "output_type": "stream",
     "text": [
      " * sqlite:///data/curso_sql.db\n",
      "Done.\n"
     ]
    },
    {
     "data": {
      "text/html": [
       "<table>\n",
       "    <thead>\n",
       "        <tr>\n",
       "            <th>country</th>\n",
       "            <th>ref_year</th>\n",
       "        </tr>\n",
       "    </thead>\n",
       "    <tbody>\n",
       "        <tr>\n",
       "            <td>Brazil</td>\n",
       "            <td>2000</td>\n",
       "        </tr>\n",
       "        <tr>\n",
       "            <td>Brazil</td>\n",
       "            <td>2001</td>\n",
       "        </tr>\n",
       "        <tr>\n",
       "            <td>Brazil</td>\n",
       "            <td>2002</td>\n",
       "        </tr>\n",
       "        <tr>\n",
       "            <td>Brazil</td>\n",
       "            <td>2003</td>\n",
       "        </tr>\n",
       "        <tr>\n",
       "            <td>Brazil</td>\n",
       "            <td>2004</td>\n",
       "        </tr>\n",
       "        <tr>\n",
       "            <td>Brazil</td>\n",
       "            <td>2005</td>\n",
       "        </tr>\n",
       "        <tr>\n",
       "            <td>Brazil</td>\n",
       "            <td>2006</td>\n",
       "        </tr>\n",
       "        <tr>\n",
       "            <td>Brazil</td>\n",
       "            <td>2007</td>\n",
       "        </tr>\n",
       "        <tr>\n",
       "            <td>Brazil</td>\n",
       "            <td>2008</td>\n",
       "        </tr>\n",
       "        <tr>\n",
       "            <td>Brazil</td>\n",
       "            <td>2009</td>\n",
       "        </tr>\n",
       "    </tbody>\n",
       "</table>"
      ],
      "text/plain": [
       "[('Brazil', 2000),\n",
       " ('Brazil', 2001),\n",
       " ('Brazil', 2002),\n",
       " ('Brazil', 2003),\n",
       " ('Brazil', 2004),\n",
       " ('Brazil', 2005),\n",
       " ('Brazil', 2006),\n",
       " ('Brazil', 2007),\n",
       " ('Brazil', 2008),\n",
       " ('Brazil', 2009)]"
      ]
     },
     "execution_count": 16,
     "metadata": {},
     "output_type": "execute_result"
    }
   ],
   "source": [
    "%%sql\n",
    "\n",
    "SELECT cep.country, cep.ref_year \n",
    "FROM co2_emissions_pc cep \n",
    "WHERE cep.country = 'Brazil' AND cep.ref_year >= 2000\n",
    "\n",
    "INTERSECT\n",
    "\n",
    "SELECT myas.country, myas.ref_year \n",
    "FROM men_years_at_school myas \n",
    "WHERE myas.country = 'Brazil' AND myas.ref_year >= 2000"
   ]
  },
  {
   "cell_type": "markdown",
   "id": "08a4ae1a",
   "metadata": {},
   "source": [
    "## Summarization Functions\n"
   ]
  },
  {
   "cell_type": "markdown",
   "id": "a084e441",
   "metadata": {},
   "source": [
    "##### Using the `petrobras` stock market table, we will calculate the mean price and the range between the Close and Open prices. We will analyze the period between 2020-02-20 and 2020-03-20, as well as the dates on which the stock had a positive change."
   ]
  },
  {
   "cell_type": "code",
   "execution_count": null,
   "id": "8c530d54",
   "metadata": {
    "vscode": {
     "languageId": "sql"
    }
   },
   "outputs": [
    {
     "name": "stdout",
     "output_type": "stream",
     "text": [
      " * sqlite:///data/curso_sql.db\n",
      "Done.\n"
     ]
    },
    {
     "data": {
      "text/html": [
       "<table>\n",
       "    <thead>\n",
       "        <tr>\n",
       "            <th>Date</th>\n",
       "            <th>Open</th>\n",
       "            <th>High</th>\n",
       "            <th>Low</th>\n",
       "            <th>Close</th>\n",
       "            <th>Adj Close</th>\n",
       "            <th>Volume</th>\n",
       "            <th>mean</th>\n",
       "            <th>range</th>\n",
       "        </tr>\n",
       "    </thead>\n",
       "    <tbody>\n",
       "        <tr>\n",
       "            <td>2020-02-27</td>\n",
       "            <td>12.0</td>\n",
       "            <td>12.55</td>\n",
       "            <td>11.71</td>\n",
       "            <td>12.08</td>\n",
       "            <td>4.448638</td>\n",
       "            <td>41795900</td>\n",
       "            <td>12.04</td>\n",
       "            <td>0.08000000000000007</td>\n",
       "        </tr>\n",
       "        <tr>\n",
       "            <td>2020-02-28</td>\n",
       "            <td>11.56</td>\n",
       "            <td>12.11</td>\n",
       "            <td>11.51</td>\n",
       "            <td>12.1</td>\n",
       "            <td>4.456003</td>\n",
       "            <td>46881600</td>\n",
       "            <td>11.83</td>\n",
       "            <td>0.5399999999999991</td>\n",
       "        </tr>\n",
       "        <tr>\n",
       "            <td>2020-03-02</td>\n",
       "            <td>12.2</td>\n",
       "            <td>12.57</td>\n",
       "            <td>12.02</td>\n",
       "            <td>12.49</td>\n",
       "            <td>4.599626</td>\n",
       "            <td>29931200</td>\n",
       "            <td>12.344999999999999</td>\n",
       "            <td>0.2900000000000009</td>\n",
       "        </tr>\n",
       "        <tr>\n",
       "            <td>2020-03-19</td>\n",
       "            <td>4.4</td>\n",
       "            <td>5.12</td>\n",
       "            <td>4.1</td>\n",
       "            <td>5.06</td>\n",
       "            <td>1.863419</td>\n",
       "            <td>56339600</td>\n",
       "            <td>4.73</td>\n",
       "            <td>0.6599999999999993</td>\n",
       "        </tr>\n",
       "    </tbody>\n",
       "</table>"
      ],
      "text/plain": [
       "[('2020-02-27', 12.0, 12.55, 11.71, 12.08, 4.448638, 41795900, 12.04, 0.08000000000000007),\n",
       " ('2020-02-28', 11.56, 12.11, 11.51, 12.1, 4.456003, 46881600, 11.83, 0.5399999999999991),\n",
       " ('2020-03-02', 12.2, 12.57, 12.02, 12.49, 4.599626, 29931200, 12.344999999999999, 0.2900000000000009),\n",
       " ('2020-03-19', 4.4, 5.12, 4.1, 5.06, 1.863419, 56339600, 4.73, 0.6599999999999993)]"
      ]
     },
     "execution_count": 17,
     "metadata": {},
     "output_type": "execute_result"
    }
   ],
   "source": [
    "%%sql\n",
    "\n",
    "SELECT Date, \n",
    "\t   Open, \n",
    "\t   High, \n",
    "\t   Low, \n",
    "\t   Close, \n",
    "\t   \"Adj Close\", \n",
    "\t   Volume,\n",
    "\t   (Close + Open)/2 AS mean,\n",
    "\t   (Close - Open) AS \"range\"\n",
    "FROM petrobras\n",
    "\n",
    "WHERE \"range\" > 0 AND Date BETWEEN \"2020-02-20\" AND \"2020-03-20\"\n"
   ]
  },
  {
   "cell_type": "markdown",
   "id": "e0cac896",
   "metadata": {},
   "source": [
    "#### Few days in that period that had upwards for the price 😅"
   ]
  },
  {
   "cell_type": "markdown",
   "id": "98dd0496",
   "metadata": {},
   "source": [
    "#### Now its time to found the **African countries where woman spent at least 1 year or more than men in the school**. I have two approaches for that:"
   ]
  },
  {
   "cell_type": "code",
   "execution_count": 18,
   "id": "0f735a0d",
   "metadata": {
    "vscode": {
     "languageId": "sql"
    }
   },
   "outputs": [
    {
     "name": "stdout",
     "output_type": "stream",
     "text": [
      " * sqlite:///data/curso_sql.db\n",
      "Done.\n"
     ]
    },
    {
     "data": {
      "text/html": [
       "<table>\n",
       "    <thead>\n",
       "        <tr>\n",
       "            <th>country</th>\n",
       "            <th>ref_year</th>\n",
       "            <th>WYAS</th>\n",
       "            <th>MYAS</th>\n",
       "            <th>four_regions</th>\n",
       "        </tr>\n",
       "    </thead>\n",
       "    <tbody>\n",
       "        <tr>\n",
       "            <td>Lesotho</td>\n",
       "            <td>2001</td>\n",
       "            <td>6.9</td>\n",
       "            <td>5.0</td>\n",
       "            <td>africa</td>\n",
       "        </tr>\n",
       "        <tr>\n",
       "            <td>Lesotho</td>\n",
       "            <td>2002</td>\n",
       "            <td>7.1</td>\n",
       "            <td>5.1</td>\n",
       "            <td>africa</td>\n",
       "        </tr>\n",
       "        <tr>\n",
       "            <td>Lesotho</td>\n",
       "            <td>2003</td>\n",
       "            <td>7.3</td>\n",
       "            <td>5.2</td>\n",
       "            <td>africa</td>\n",
       "        </tr>\n",
       "        <tr>\n",
       "            <td>Lesotho</td>\n",
       "            <td>2004</td>\n",
       "            <td>7.5</td>\n",
       "            <td>5.3</td>\n",
       "            <td>africa</td>\n",
       "        </tr>\n",
       "        <tr>\n",
       "            <td>Lesotho</td>\n",
       "            <td>2005</td>\n",
       "            <td>7.7</td>\n",
       "            <td>5.4</td>\n",
       "            <td>africa</td>\n",
       "        </tr>\n",
       "        <tr>\n",
       "            <td>Lesotho</td>\n",
       "            <td>2006</td>\n",
       "            <td>7.9</td>\n",
       "            <td>5.5</td>\n",
       "            <td>africa</td>\n",
       "        </tr>\n",
       "        <tr>\n",
       "            <td>Lesotho</td>\n",
       "            <td>2007</td>\n",
       "            <td>8.1</td>\n",
       "            <td>5.7</td>\n",
       "            <td>africa</td>\n",
       "        </tr>\n",
       "        <tr>\n",
       "            <td>Lesotho</td>\n",
       "            <td>2008</td>\n",
       "            <td>8.2</td>\n",
       "            <td>5.8</td>\n",
       "            <td>africa</td>\n",
       "        </tr>\n",
       "        <tr>\n",
       "            <td>Lesotho</td>\n",
       "            <td>2009</td>\n",
       "            <td>8.4</td>\n",
       "            <td>5.9</td>\n",
       "            <td>africa</td>\n",
       "        </tr>\n",
       "        <tr>\n",
       "            <td>Seychelles</td>\n",
       "            <td>2001</td>\n",
       "            <td>10.1</td>\n",
       "            <td>8.6</td>\n",
       "            <td>africa</td>\n",
       "        </tr>\n",
       "        <tr>\n",
       "            <td>Seychelles</td>\n",
       "            <td>2002</td>\n",
       "            <td>10.3</td>\n",
       "            <td>8.8</td>\n",
       "            <td>africa</td>\n",
       "        </tr>\n",
       "        <tr>\n",
       "            <td>Seychelles</td>\n",
       "            <td>2003</td>\n",
       "            <td>10.5</td>\n",
       "            <td>9.0</td>\n",
       "            <td>africa</td>\n",
       "        </tr>\n",
       "        <tr>\n",
       "            <td>Seychelles</td>\n",
       "            <td>2004</td>\n",
       "            <td>10.7</td>\n",
       "            <td>9.1</td>\n",
       "            <td>africa</td>\n",
       "        </tr>\n",
       "        <tr>\n",
       "            <td>Seychelles</td>\n",
       "            <td>2005</td>\n",
       "            <td>10.9</td>\n",
       "            <td>9.3</td>\n",
       "            <td>africa</td>\n",
       "        </tr>\n",
       "        <tr>\n",
       "            <td>Seychelles</td>\n",
       "            <td>2006</td>\n",
       "            <td>11.1</td>\n",
       "            <td>9.5</td>\n",
       "            <td>africa</td>\n",
       "        </tr>\n",
       "        <tr>\n",
       "            <td>Seychelles</td>\n",
       "            <td>2007</td>\n",
       "            <td>11.3</td>\n",
       "            <td>9.6</td>\n",
       "            <td>africa</td>\n",
       "        </tr>\n",
       "        <tr>\n",
       "            <td>Seychelles</td>\n",
       "            <td>2008</td>\n",
       "            <td>11.5</td>\n",
       "            <td>9.8</td>\n",
       "            <td>africa</td>\n",
       "        </tr>\n",
       "        <tr>\n",
       "            <td>Seychelles</td>\n",
       "            <td>2009</td>\n",
       "            <td>11.7</td>\n",
       "            <td>10.0</td>\n",
       "            <td>africa</td>\n",
       "        </tr>\n",
       "    </tbody>\n",
       "</table>"
      ],
      "text/plain": [
       "[('Lesotho', 2001, 6.9, 5.0, 'africa'),\n",
       " ('Lesotho', 2002, 7.1, 5.1, 'africa'),\n",
       " ('Lesotho', 2003, 7.3, 5.2, 'africa'),\n",
       " ('Lesotho', 2004, 7.5, 5.3, 'africa'),\n",
       " ('Lesotho', 2005, 7.7, 5.4, 'africa'),\n",
       " ('Lesotho', 2006, 7.9, 5.5, 'africa'),\n",
       " ('Lesotho', 2007, 8.1, 5.7, 'africa'),\n",
       " ('Lesotho', 2008, 8.2, 5.8, 'africa'),\n",
       " ('Lesotho', 2009, 8.4, 5.9, 'africa'),\n",
       " ('Seychelles', 2001, 10.1, 8.6, 'africa'),\n",
       " ('Seychelles', 2002, 10.3, 8.8, 'africa'),\n",
       " ('Seychelles', 2003, 10.5, 9.0, 'africa'),\n",
       " ('Seychelles', 2004, 10.7, 9.1, 'africa'),\n",
       " ('Seychelles', 2005, 10.9, 9.3, 'africa'),\n",
       " ('Seychelles', 2006, 11.1, 9.5, 'africa'),\n",
       " ('Seychelles', 2007, 11.3, 9.6, 'africa'),\n",
       " ('Seychelles', 2008, 11.5, 9.8, 'africa'),\n",
       " ('Seychelles', 2009, 11.7, 10.0, 'africa')]"
      ]
     },
     "execution_count": 18,
     "metadata": {},
     "output_type": "execute_result"
    }
   ],
   "source": [
    "%%sql\n",
    "\n",
    "SELECT wyas.country,\n",
    "\t   wyas.ref_year,\n",
    "\t   wyas.mean_years AS \"WYAS\",\n",
    "\t   myas.mean_years AS \"MYAS\",\n",
    "\t   c.four_regions\n",
    "FROM women_years_at_school wyas\n",
    "LEFT JOIN country c ON c.country=wyas.country\n",
    "LEFT JOIN men_years_at_school myas ON wyas.country = myas.country AND wyas.ref_year = myas.ref_year\n",
    "WHERE c.four_regions = \"africa\" \n",
    "AND wyas.mean_years - myas.mean_years >= 1 \n",
    "AND wyas.ref_year BETWEEN 2001 AND 2011"
   ]
  },
  {
   "cell_type": "markdown",
   "id": "24201ce6",
   "metadata": {
    "vscode": {
     "languageId": "sql"
    }
   },
   "source": [
    "#### With this query we can analyze the number of years itself. \n",
    "#### Below we have only the **output of the countries**. Both ways are good, but they can be useful in differents needs."
   ]
  },
  {
   "cell_type": "code",
   "execution_count": 21,
   "id": "9a57fbed",
   "metadata": {
    "vscode": {
     "languageId": "sql"
    }
   },
   "outputs": [
    {
     "name": "stdout",
     "output_type": "stream",
     "text": [
      " * sqlite:///data/curso_sql.db\n",
      "Done.\n"
     ]
    },
    {
     "data": {
      "text/html": [
       "<table>\n",
       "    <thead>\n",
       "        <tr>\n",
       "            <th>country</th>\n",
       "        </tr>\n",
       "    </thead>\n",
       "    <tbody>\n",
       "        <tr>\n",
       "            <td>Lesotho</td>\n",
       "        </tr>\n",
       "        <tr>\n",
       "            <td>Seychelles</td>\n",
       "        </tr>\n",
       "    </tbody>\n",
       "</table>"
      ],
      "text/plain": [
       "[('Lesotho',), ('Seychelles',)]"
      ]
     },
     "execution_count": 21,
     "metadata": {},
     "output_type": "execute_result"
    }
   ],
   "source": [
    "%%sql\n",
    "\n",
    "SELECT DISTINCT m.country\n",
    "FROM men_years_at_school m\n",
    "JOIN women_years_at_school w ON m.country = w.country \n",
    "\tAND m.ref_year = w.ref_year\n",
    "JOIN country c ON m.country = c.country \n",
    "WHERE c.four_regions = 'africa'\n",
    "\tAND w.mean_years - m.mean_years >= 1\n",
    "\tAND w.ref_year BETWEEN 2001 AND 2010;"
   ]
  },
  {
   "cell_type": "code",
   "execution_count": null,
   "id": "6cdb3874",
   "metadata": {
    "vscode": {
     "languageId": "sql"
    }
   },
   "outputs": [],
   "source": []
  },
  {
   "cell_type": "code",
   "execution_count": null,
   "id": "6234910c",
   "metadata": {
    "vscode": {
     "languageId": "sql"
    }
   },
   "outputs": [],
   "source": []
  }
 ],
 "metadata": {
  "kernelspec": {
   "display_name": "Python 3",
   "language": "python",
   "name": "python3"
  },
  "language_info": {
   "codemirror_mode": {
    "name": "ipython",
    "version": 3
   },
   "file_extension": ".py",
   "mimetype": "text/x-python",
   "name": "python",
   "nbconvert_exporter": "python",
   "pygments_lexer": "ipython3",
   "version": "3.11.9"
  }
 },
 "nbformat": 4,
 "nbformat_minor": 5
}
