{
 "cells": [
  {
   "cell_type": "markdown",
   "id": "f32beb3b",
   "metadata": {},
   "source": [
    "# SQL Notes - FGV Course\n",
    "#### This notebook holds all the notes and exercises I took from the course.\n",
    "#### It's a public knowledge source and a personal learning journal."
   ]
  },
  {
   "cell_type": "code",
   "execution_count": 18,
   "id": "e7bf0f16",
   "metadata": {},
   "outputs": [
    {
     "name": "stdout",
     "output_type": "stream",
     "text": [
      "C:\\Users\\grbar\\OneDrive\\Área de Trabalho\\SQL_FGV\\rep\n"
     ]
    }
   ],
   "source": [
    "# Making sure that the notebook is running in the right directory\n",
    "\n",
    "import os\n",
    "os.chdir(r\"C:\\Users\\grbar\\OneDrive\\Área de Trabalho\\SQL_FGV\\rep\")\n",
    "print(os.getcwd())\n"
   ]
  },
  {
   "cell_type": "code",
   "execution_count": 10,
   "id": "e54320fd",
   "metadata": {},
   "outputs": [],
   "source": [
    "# Getting the data\n",
    "\n",
    "%reload_ext sql\n",
    "%sql sqlite:///data/curso_sql.db\n"
   ]
  },
  {
   "cell_type": "markdown",
   "id": "0379d4e9",
   "metadata": {},
   "source": [
    "#### Tables"
   ]
  },
  {
   "cell_type": "code",
   "execution_count": 11,
   "id": "85a2b981",
   "metadata": {},
   "outputs": [
    {
     "name": "stdout",
     "output_type": "stream",
     "text": [
      "   sqlite:///C:/Users/grbar/OneDrive/Documents/SQL_FGV/data/curso_sql.db\n",
      " * sqlite:///data/curso_sql.db\n",
      "Done.\n"
     ]
    },
    {
     "data": {
      "text/html": [
       "<table>\n",
       "    <thead>\n",
       "        <tr>\n",
       "            <th>name</th>\n",
       "        </tr>\n",
       "    </thead>\n",
       "    <tbody>\n",
       "        <tr>\n",
       "            <td>fertility</td>\n",
       "        </tr>\n",
       "        <tr>\n",
       "            <td>gdp_pc</td>\n",
       "        </tr>\n",
       "        <tr>\n",
       "            <td>avg_income</td>\n",
       "        </tr>\n",
       "        <tr>\n",
       "            <td>co2_emissions_pc</td>\n",
       "        </tr>\n",
       "        <tr>\n",
       "            <td>life_expectancy</td>\n",
       "        </tr>\n",
       "        <tr>\n",
       "            <td>child_mortality</td>\n",
       "        </tr>\n",
       "        <tr>\n",
       "            <td>population</td>\n",
       "        </tr>\n",
       "        <tr>\n",
       "            <td>petrobras</td>\n",
       "        </tr>\n",
       "        <tr>\n",
       "            <td>women_years_at_school</td>\n",
       "        </tr>\n",
       "        <tr>\n",
       "            <td>men_years_at_school</td>\n",
       "        </tr>\n",
       "        <tr>\n",
       "            <td>country</td>\n",
       "        </tr>\n",
       "    </tbody>\n",
       "</table>"
      ],
      "text/plain": [
       "[('fertility',),\n",
       " ('gdp_pc',),\n",
       " ('avg_income',),\n",
       " ('co2_emissions_pc',),\n",
       " ('life_expectancy',),\n",
       " ('child_mortality',),\n",
       " ('population',),\n",
       " ('petrobras',),\n",
       " ('women_years_at_school',),\n",
       " ('men_years_at_school',),\n",
       " ('country',)]"
      ]
     },
     "execution_count": 11,
     "metadata": {},
     "output_type": "execute_result"
    }
   ],
   "source": [
    "%%sql\n",
    "SELECT name \n",
    "FROM sqlite_master \n",
    "WHERE type='table';\n"
   ]
  },
  {
   "cell_type": "markdown",
   "id": "7d882810",
   "metadata": {},
   "source": [
    "### Working with JOINS"
   ]
  },
  {
   "cell_type": "markdown",
   "id": "ca092e92",
   "metadata": {},
   "source": [
    "#### Consulting GDP, Child Mortality, Average Income, Births Rate, Life Expectancy and Population in Brazil in the years of 1900, 1910, 1920, 1930, 1940, 1950, 1960, 1970, 1980, 1990, 2000, 2010, 2020."
   ]
  },
  {
   "cell_type": "markdown",
   "id": "a6349d00",
   "metadata": {},
   "source": [
    "##### My version using the table 'country', but we don't need it at this time, since another tables have 'country' column.."
   ]
  },
  {
   "cell_type": "code",
   "execution_count": 19,
   "id": "ae0dca7b",
   "metadata": {
    "vscode": {
     "languageId": "sql"
    }
   },
   "outputs": [
    {
     "name": "stdout",
     "output_type": "stream",
     "text": [
      "   sqlite:///C:/Users/grbar/OneDrive/Documents/SQL_FGV/data/curso_sql.db\n",
      " * sqlite:///data/curso_sql.db\n",
      "Done.\n"
     ]
    },
    {
     "data": {
      "text/html": [
       "<table>\n",
       "    <thead>\n",
       "        <tr>\n",
       "            <th>pais</th>\n",
       "            <th>ano</th>\n",
       "            <th>pib</th>\n",
       "            <th>mort_inf</th>\n",
       "            <th>renda_per_capita</th>\n",
       "            <th>populacao</th>\n",
       "            <th>nascimentos</th>\n",
       "            <th>expec_vida</th>\n",
       "        </tr>\n",
       "    </thead>\n",
       "    <tbody>\n",
       "        <tr>\n",
       "            <td>Brazil</td>\n",
       "            <td>1900</td>\n",
       "            <td>1.01</td>\n",
       "            <td>417</td>\n",
       "            <td>1250</td>\n",
       "            <td>18100000</td>\n",
       "            <td>5.88</td>\n",
       "            <td>31.1</td>\n",
       "        </tr>\n",
       "        <tr>\n",
       "            <td>Brazil</td>\n",
       "            <td>1910</td>\n",
       "            <td>1.14</td>\n",
       "            <td>410</td>\n",
       "            <td>1410</td>\n",
       "            <td>22400000</td>\n",
       "            <td>5.9</td>\n",
       "            <td>30.9</td>\n",
       "        </tr>\n",
       "        <tr>\n",
       "            <td>Brazil</td>\n",
       "            <td>1920</td>\n",
       "            <td>1.43</td>\n",
       "            <td>400</td>\n",
       "            <td>1770</td>\n",
       "            <td>27600000</td>\n",
       "            <td>5.9</td>\n",
       "            <td>30.8</td>\n",
       "        </tr>\n",
       "        <tr>\n",
       "            <td>Brazil</td>\n",
       "            <td>1930</td>\n",
       "            <td>1.56</td>\n",
       "            <td>391</td>\n",
       "            <td>1930</td>\n",
       "            <td>33800000</td>\n",
       "            <td>5.9</td>\n",
       "            <td>30.6</td>\n",
       "        </tr>\n",
       "        <tr>\n",
       "            <td>Brazil</td>\n",
       "            <td>1940</td>\n",
       "            <td>1.86</td>\n",
       "            <td>315</td>\n",
       "            <td>2300</td>\n",
       "            <td>41600000</td>\n",
       "            <td>5.9</td>\n",
       "            <td>34.8</td>\n",
       "        </tr>\n",
       "        <tr>\n",
       "            <td>Brazil</td>\n",
       "            <td>1950</td>\n",
       "            <td>2.51</td>\n",
       "            <td>212</td>\n",
       "            <td>3110</td>\n",
       "            <td>54000000</td>\n",
       "            <td>6.18</td>\n",
       "            <td>47.6</td>\n",
       "        </tr>\n",
       "        <tr>\n",
       "            <td>Brazil</td>\n",
       "            <td>1960</td>\n",
       "            <td>3.68</td>\n",
       "            <td>169</td>\n",
       "            <td>4550</td>\n",
       "            <td>73100000</td>\n",
       "            <td>6.21</td>\n",
       "            <td>52.4</td>\n",
       "        </tr>\n",
       "        <tr>\n",
       "            <td>Brazil</td>\n",
       "            <td>1970</td>\n",
       "            <td>5.12</td>\n",
       "            <td>133</td>\n",
       "            <td>6330</td>\n",
       "            <td>96400000</td>\n",
       "            <td>5.02</td>\n",
       "            <td>56.9</td>\n",
       "        </tr>\n",
       "        <tr>\n",
       "            <td>Brazil</td>\n",
       "            <td>1980</td>\n",
       "            <td>9.04</td>\n",
       "            <td>96.3</td>\n",
       "            <td>11200</td>\n",
       "            <td>122000000</td>\n",
       "            <td>4.07</td>\n",
       "            <td>62.7</td>\n",
       "        </tr>\n",
       "        <tr>\n",
       "            <td>Brazil</td>\n",
       "            <td>1990</td>\n",
       "            <td>9.6</td>\n",
       "            <td>63</td>\n",
       "            <td>10600</td>\n",
       "            <td>151000000</td>\n",
       "            <td>2.81</td>\n",
       "            <td>67.3</td>\n",
       "        </tr>\n",
       "        <tr>\n",
       "            <td>Brazil</td>\n",
       "            <td>2000</td>\n",
       "            <td>13.1</td>\n",
       "            <td>34.8</td>\n",
       "            <td>11900</td>\n",
       "            <td>176000000</td>\n",
       "            <td>2.3</td>\n",
       "            <td>71.2</td>\n",
       "        </tr>\n",
       "        <tr>\n",
       "            <td>Brazil</td>\n",
       "            <td>2010</td>\n",
       "            <td>17.7</td>\n",
       "            <td>18.7</td>\n",
       "            <td>14800</td>\n",
       "            <td>196000000</td>\n",
       "            <td>1.81</td>\n",
       "            <td>73.8</td>\n",
       "        </tr>\n",
       "        <tr>\n",
       "            <td>Brazil</td>\n",
       "            <td>2020</td>\n",
       "            <td>21.0</td>\n",
       "            <td>13.5</td>\n",
       "            <td>14100</td>\n",
       "            <td>213000000</td>\n",
       "            <td>1.67</td>\n",
       "            <td>74.5</td>\n",
       "        </tr>\n",
       "    </tbody>\n",
       "</table>"
      ],
      "text/plain": [
       "[('Brazil', 1900, 1.01, 417, 1250, 18100000, 5.88, 31.1),\n",
       " ('Brazil', 1910, 1.14, 410, 1410, 22400000, 5.9, 30.9),\n",
       " ('Brazil', 1920, 1.43, 400, 1770, 27600000, 5.9, 30.8),\n",
       " ('Brazil', 1930, 1.56, 391, 1930, 33800000, 5.9, 30.6),\n",
       " ('Brazil', 1940, 1.86, 315, 2300, 41600000, 5.9, 34.8),\n",
       " ('Brazil', 1950, 2.51, 212, 3110, 54000000, 6.18, 47.6),\n",
       " ('Brazil', 1960, 3.68, 169, 4550, 73100000, 6.21, 52.4),\n",
       " ('Brazil', 1970, 5.12, 133, 6330, 96400000, 5.02, 56.9),\n",
       " ('Brazil', 1980, 9.04, 96.3, 11200, 122000000, 4.07, 62.7),\n",
       " ('Brazil', 1990, 9.6, 63, 10600, 151000000, 2.81, 67.3),\n",
       " ('Brazil', 2000, 13.1, 34.8, 11900, 176000000, 2.3, 71.2),\n",
       " ('Brazil', 2010, 17.7, 18.7, 14800, 196000000, 1.81, 73.8),\n",
       " ('Brazil', 2020, 21.0, 13.5, 14100, 213000000, 1.67, 74.5)]"
      ]
     },
     "execution_count": 19,
     "metadata": {},
     "output_type": "execute_result"
    }
   ],
   "source": [
    "%%sql\n",
    "\n",
    "SELECT  c.country as \"pais\", \n",
    "        gdp.ref_year AS \"ano\", \n",
    "        avgi.mean_usd as \"pib\", \n",
    "        cm.tot_deaths as \"mort_inf\", \n",
    "        gdp.gdp_pc as \"renda_per_capita\", \n",
    "        p.tot_pop as \"populacao\", \n",
    "        f.mean_babies as \"nascimentos\", \n",
    "        le.tot_years as \"expec_vida\" \n",
    "        \n",
    "FROM country as c \n",
    "\n",
    "JOIN gdp_pc AS gdp ON c.country = gdp.country AND gdp.ref_year IN (1900,1910,1920,1930,1940,1950,1960,1970,1980,1990,2000,2010,2020) \n",
    "JOIN avg_income AS avgi ON c.country = avgi.country AND avgi.ref_year = gdp.ref_year \n",
    "JOIN child_mortality AS cm ON c.country = cm.country AND cm.ref_year = gdp.ref_year \n",
    "JOIN population AS p ON c.country = p.country AND p.ref_year = gdp.ref_year \n",
    "JOIN fertility AS f ON c.country = f.country AND f.ref_year = gdp.ref_year \n",
    "JOIN life_expectancy AS le ON c.country = le.country AND le.ref_year = gdp.ref_year \n",
    "\n",
    "WHERE c.country = 'Brazil' ORDER BY ano ASC"
   ]
  },
  {
   "cell_type": "markdown",
   "id": "753c5fd6",
   "metadata": {},
   "source": [
    "#### This version doesn't use the 'country' table and columns, it just jumps to the information that we need. A way better :)"
   ]
  },
  {
   "cell_type": "code",
   "execution_count": null,
   "id": "5cc4f3ef",
   "metadata": {
    "vscode": {
     "languageId": "sql"
    }
   },
   "outputs": [
    {
     "name": "stdout",
     "output_type": "stream",
     "text": [
      "   sqlite:///C:/Users/grbar/OneDrive/Documents/SQL_FGV/data/curso_sql.db\n",
      " * sqlite:///data/curso_sql.db\n",
      "Done.\n"
     ]
    },
    {
     "data": {
      "text/html": [
       "<table>\n",
       "    <thead>\n",
       "        <tr>\n",
       "            <th>ano</th>\n",
       "            <th>pib</th>\n",
       "            <th>mort_inf</th>\n",
       "            <th>renda_per_capita</th>\n",
       "            <th>populacao</th>\n",
       "            <th>nascimentos</th>\n",
       "            <th>expec_vida</th>\n",
       "        </tr>\n",
       "    </thead>\n",
       "    <tbody>\n",
       "        <tr>\n",
       "            <td>1900</td>\n",
       "            <td>1.01</td>\n",
       "            <td>417</td>\n",
       "            <td>1250</td>\n",
       "            <td>18100000</td>\n",
       "            <td>5.88</td>\n",
       "            <td>31.1</td>\n",
       "        </tr>\n",
       "        <tr>\n",
       "            <td>1910</td>\n",
       "            <td>1.14</td>\n",
       "            <td>410</td>\n",
       "            <td>1410</td>\n",
       "            <td>22400000</td>\n",
       "            <td>5.9</td>\n",
       "            <td>30.9</td>\n",
       "        </tr>\n",
       "        <tr>\n",
       "            <td>1920</td>\n",
       "            <td>1.43</td>\n",
       "            <td>400</td>\n",
       "            <td>1770</td>\n",
       "            <td>27600000</td>\n",
       "            <td>5.9</td>\n",
       "            <td>30.8</td>\n",
       "        </tr>\n",
       "        <tr>\n",
       "            <td>1930</td>\n",
       "            <td>1.56</td>\n",
       "            <td>391</td>\n",
       "            <td>1930</td>\n",
       "            <td>33800000</td>\n",
       "            <td>5.9</td>\n",
       "            <td>30.6</td>\n",
       "        </tr>\n",
       "        <tr>\n",
       "            <td>1940</td>\n",
       "            <td>1.86</td>\n",
       "            <td>315</td>\n",
       "            <td>2300</td>\n",
       "            <td>41600000</td>\n",
       "            <td>5.9</td>\n",
       "            <td>34.8</td>\n",
       "        </tr>\n",
       "        <tr>\n",
       "            <td>1950</td>\n",
       "            <td>2.51</td>\n",
       "            <td>212</td>\n",
       "            <td>3110</td>\n",
       "            <td>54000000</td>\n",
       "            <td>6.18</td>\n",
       "            <td>47.6</td>\n",
       "        </tr>\n",
       "        <tr>\n",
       "            <td>1960</td>\n",
       "            <td>3.68</td>\n",
       "            <td>169</td>\n",
       "            <td>4550</td>\n",
       "            <td>73100000</td>\n",
       "            <td>6.21</td>\n",
       "            <td>52.4</td>\n",
       "        </tr>\n",
       "        <tr>\n",
       "            <td>1970</td>\n",
       "            <td>5.12</td>\n",
       "            <td>133</td>\n",
       "            <td>6330</td>\n",
       "            <td>96400000</td>\n",
       "            <td>5.02</td>\n",
       "            <td>56.9</td>\n",
       "        </tr>\n",
       "        <tr>\n",
       "            <td>1980</td>\n",
       "            <td>9.04</td>\n",
       "            <td>96.3</td>\n",
       "            <td>11200</td>\n",
       "            <td>122000000</td>\n",
       "            <td>4.07</td>\n",
       "            <td>62.7</td>\n",
       "        </tr>\n",
       "        <tr>\n",
       "            <td>1990</td>\n",
       "            <td>9.6</td>\n",
       "            <td>63</td>\n",
       "            <td>10600</td>\n",
       "            <td>151000000</td>\n",
       "            <td>2.81</td>\n",
       "            <td>67.3</td>\n",
       "        </tr>\n",
       "        <tr>\n",
       "            <td>2000</td>\n",
       "            <td>13.1</td>\n",
       "            <td>34.8</td>\n",
       "            <td>11900</td>\n",
       "            <td>176000000</td>\n",
       "            <td>2.3</td>\n",
       "            <td>71.2</td>\n",
       "        </tr>\n",
       "        <tr>\n",
       "            <td>2010</td>\n",
       "            <td>17.7</td>\n",
       "            <td>18.7</td>\n",
       "            <td>14800</td>\n",
       "            <td>196000000</td>\n",
       "            <td>1.81</td>\n",
       "            <td>73.8</td>\n",
       "        </tr>\n",
       "        <tr>\n",
       "            <td>2020</td>\n",
       "            <td>21.0</td>\n",
       "            <td>13.5</td>\n",
       "            <td>14100</td>\n",
       "            <td>213000000</td>\n",
       "            <td>1.67</td>\n",
       "            <td>74.5</td>\n",
       "        </tr>\n",
       "    </tbody>\n",
       "</table>"
      ],
      "text/plain": [
       "[(1900, 1.01, 417, 1250, 18100000, 5.88, 31.1),\n",
       " (1910, 1.14, 410, 1410, 22400000, 5.9, 30.9),\n",
       " (1920, 1.43, 400, 1770, 27600000, 5.9, 30.8),\n",
       " (1930, 1.56, 391, 1930, 33800000, 5.9, 30.6),\n",
       " (1940, 1.86, 315, 2300, 41600000, 5.9, 34.8),\n",
       " (1950, 2.51, 212, 3110, 54000000, 6.18, 47.6),\n",
       " (1960, 3.68, 169, 4550, 73100000, 6.21, 52.4),\n",
       " (1970, 5.12, 133, 6330, 96400000, 5.02, 56.9),\n",
       " (1980, 9.04, 96.3, 11200, 122000000, 4.07, 62.7),\n",
       " (1990, 9.6, 63, 10600, 151000000, 2.81, 67.3),\n",
       " (2000, 13.1, 34.8, 11900, 176000000, 2.3, 71.2),\n",
       " (2010, 17.7, 18.7, 14800, 196000000, 1.81, 73.8),\n",
       " (2020, 21.0, 13.5, 14100, 213000000, 1.67, 74.5)]"
      ]
     },
     "execution_count": 13,
     "metadata": {},
     "output_type": "execute_result"
    }
   ],
   "source": [
    "%%sql\n",
    "\n",
    "SELECT \n",
    "    gdp.ref_year AS \"ano\",\n",
    "    avgi.mean_usd AS \"pib\",\n",
    "    cm.tot_deaths AS \"mort_inf\",\n",
    "    gdp.gdp_pc AS \"renda_per_capita\",\n",
    "    p.tot_pop AS \"populacao\",\n",
    "    f.mean_babies AS \"nascimentos\",\n",
    "    le.tot_years AS \"expec_vida\"\n",
    "FROM gdp_pc gdp\n",
    "\n",
    "JOIN avg_income avgi ON gdp.country = avgi.country AND gdp.ref_year = avgi.ref_year\n",
    "JOIN child_mortality cm ON gdp.country = cm.country AND gdp.ref_year = cm.ref_year\n",
    "JOIN population p ON gdp.country = p.country AND gdp.ref_year = p.ref_year\n",
    "JOIN fertility f ON gdp.country = f.country AND gdp.ref_year = f.ref_year\n",
    "JOIN life_expectancy le ON gdp.country = le.country AND gdp.ref_year = le.ref_year\n",
    "\n",
    "WHERE gdp.country = 'Brazil' AND gdp.ref_year IN (1900,1910,1920,1930,1940,1950,1960,1970,1980,1990,2000,2010,2020)\n",
    "ORDER BY gdp.ref_year;\n"
   ]
  },
  {
   "cell_type": "markdown",
   "id": "0841a945",
   "metadata": {},
   "source": [
    "### LEFT JOINS "
   ]
  },
  {
   "cell_type": "markdown",
   "id": "098d34b5",
   "metadata": {},
   "source": [
    "#### Need to get child mortality rate and births rate on the six smallest countries in Europe (Andorra, Liechtenstein, Malta, Monaco, San Marino and Holy-See (Vatican)) for the year 2000\n"
   ]
  },
  {
   "cell_type": "code",
   "execution_count": null,
   "id": "6d7fd0e1",
   "metadata": {
    "vscode": {
     "languageId": "sql"
    }
   },
   "outputs": [
    {
     "name": "stdout",
     "output_type": "stream",
     "text": [
      "   sqlite:///C:/Users/grbar/OneDrive/Documents/SQL_FGV/data/curso_sql.db\n",
      " * sqlite:///data/curso_sql.db\n",
      "Done.\n"
     ]
    },
    {
     "data": {
      "text/html": [
       "<table>\n",
       "    <thead>\n",
       "        <tr>\n",
       "            <th>country</th>\n",
       "            <th>tot_deaths</th>\n",
       "            <th>mean_babies</th>\n",
       "        </tr>\n",
       "    </thead>\n",
       "    <tbody>\n",
       "        <tr>\n",
       "            <td>Andorra</td>\n",
       "            <td>6.41</td>\n",
       "            <td>None</td>\n",
       "        </tr>\n",
       "        <tr>\n",
       "            <td>Holy See</td>\n",
       "            <td>37.4</td>\n",
       "            <td>None</td>\n",
       "        </tr>\n",
       "        <tr>\n",
       "            <td>Liechtenstein</td>\n",
       "            <td>11.5</td>\n",
       "            <td>None</td>\n",
       "        </tr>\n",
       "        <tr>\n",
       "            <td>Monaco</td>\n",
       "            <td>5.16</td>\n",
       "            <td>None</td>\n",
       "        </tr>\n",
       "        <tr>\n",
       "            <td>Malta</td>\n",
       "            <td>7.59</td>\n",
       "            <td>1.67</td>\n",
       "        </tr>\n",
       "        <tr>\n",
       "            <td>San Marino</td>\n",
       "            <td>6.07</td>\n",
       "            <td>None</td>\n",
       "        </tr>\n",
       "    </tbody>\n",
       "</table>"
      ],
      "text/plain": [
       "[('Andorra', 6.41, None),\n",
       " ('Holy See', 37.4, None),\n",
       " ('Liechtenstein', 11.5, None),\n",
       " ('Monaco', 5.16, None),\n",
       " ('Malta', 7.59, 1.67),\n",
       " ('San Marino', 6.07, None)]"
      ]
     },
     "execution_count": 15,
     "metadata": {},
     "output_type": "execute_result"
    }
   ],
   "source": [
    "%%sql\n",
    "\n",
    "SELECT cm.country, \n",
    "\t   cm.tot_deaths, \n",
    "\t   f.mean_babies\n",
    "FROM child_mortality cm\n",
    "\n",
    "LEFT JOIN fertility f ON cm.country = f.country AND cm.ref_year = f.ref_year\n",
    "\n",
    "WHERE cm.country IN ( 'Andorra', 'Holy See', 'Liechtenstein', 'Malta', 'Monaco', 'San Marino') AND cm.ref_year= 2000;\t"
   ]
  },
  {
   "cell_type": "markdown",
   "id": "161c02c1",
   "metadata": {},
   "source": [
    "#### Geting the same table as above, but with the population of each country for 2000"
   ]
  },
  {
   "cell_type": "code",
   "execution_count": null,
   "id": "810f2cd0",
   "metadata": {
    "vscode": {
     "languageId": "sql"
    }
   },
   "outputs": [
    {
     "name": "stdout",
     "output_type": "stream",
     "text": [
      "   sqlite:///C:/Users/grbar/OneDrive/Documents/SQL_FGV/data/curso_sql.db\n",
      " * sqlite:///data/curso_sql.db\n",
      "Done.\n"
     ]
    },
    {
     "data": {
      "text/html": [
       "<table>\n",
       "    <thead>\n",
       "        <tr>\n",
       "            <th>country</th>\n",
       "            <th>ref_year</th>\n",
       "            <th>tot_deaths</th>\n",
       "            <th>mean_babies</th>\n",
       "            <th>tot_pop</th>\n",
       "        </tr>\n",
       "    </thead>\n",
       "    <tbody>\n",
       "        <tr>\n",
       "            <td>Andorra</td>\n",
       "            <td>2000</td>\n",
       "            <td>6.41</td>\n",
       "            <td>None</td>\n",
       "            <td>66100</td>\n",
       "        </tr>\n",
       "        <tr>\n",
       "            <td>Holy See</td>\n",
       "            <td>2000</td>\n",
       "            <td>37.4</td>\n",
       "            <td>None</td>\n",
       "            <td>779</td>\n",
       "        </tr>\n",
       "        <tr>\n",
       "            <td>Liechtenstein</td>\n",
       "            <td>2000</td>\n",
       "            <td>11.5</td>\n",
       "            <td>None</td>\n",
       "            <td>33000</td>\n",
       "        </tr>\n",
       "        <tr>\n",
       "            <td>Monaco</td>\n",
       "            <td>2000</td>\n",
       "            <td>5.16</td>\n",
       "            <td>None</td>\n",
       "            <td>32500</td>\n",
       "        </tr>\n",
       "        <tr>\n",
       "            <td>Malta</td>\n",
       "            <td>2000</td>\n",
       "            <td>7.59</td>\n",
       "            <td>1.67</td>\n",
       "            <td>399000</td>\n",
       "        </tr>\n",
       "        <tr>\n",
       "            <td>San Marino</td>\n",
       "            <td>2000</td>\n",
       "            <td>6.07</td>\n",
       "            <td>None</td>\n",
       "            <td>26800</td>\n",
       "        </tr>\n",
       "    </tbody>\n",
       "</table>"
      ],
      "text/plain": [
       "[('Andorra', 2000, 6.41, None, 66100),\n",
       " ('Holy See', 2000, 37.4, None, 779),\n",
       " ('Liechtenstein', 2000, 11.5, None, 33000),\n",
       " ('Monaco', 2000, 5.16, None, 32500),\n",
       " ('Malta', 2000, 7.59, 1.67, 399000),\n",
       " ('San Marino', 2000, 6.07, None, 26800)]"
      ]
     },
     "execution_count": 17,
     "metadata": {},
     "output_type": "execute_result"
    }
   ],
   "source": [
    "%%sql\n",
    "\n",
    "SELECT cm.country, \n",
    "       cm.ref_year, \n",
    "       cm.tot_deaths, \n",
    "       f.mean_babies, \n",
    "       p.tot_pop\n",
    "FROM child_mortality cm \n",
    "\n",
    "LEFT JOIN fertility f ON cm.country = f.country AND cm.ref_year = f.ref_year \n",
    "LEFT JOIN population p ON cm.country = p.country AND cm.ref_year = p.ref_year\n",
    "\n",
    "WHERE cm.ref_year = 2000 AND cm.country IN ('Andorra', 'Holy See', 'Liechtenstein', 'Malta', 'Monaco', 'San Marino')"
   ]
  },
  {
   "cell_type": "code",
   "execution_count": null,
   "id": "7448b0f9",
   "metadata": {
    "vscode": {
     "languageId": "sql"
    }
   },
   "outputs": [],
   "source": []
  }
 ],
 "metadata": {
  "kernelspec": {
   "display_name": "Python 3",
   "language": "python",
   "name": "python3"
  },
  "language_info": {
   "codemirror_mode": {
    "name": "ipython",
    "version": 3
   },
   "file_extension": ".py",
   "mimetype": "text/x-python",
   "name": "python",
   "nbconvert_exporter": "python",
   "pygments_lexer": "ipython3",
   "version": "3.11.9"
  }
 },
 "nbformat": 4,
 "nbformat_minor": 5
}
